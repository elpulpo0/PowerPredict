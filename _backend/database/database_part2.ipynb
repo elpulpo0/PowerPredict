{
 "cells": [
  {
   "cell_type": "code",
   "execution_count": 1,
   "metadata": {},
   "outputs": [
    {
     "name": "stdout",
     "output_type": "stream",
     "text": [
      "Colonnes dans TrainData : ['id', 'nombre_declaration', 'surface_declaree', 'annee_consommation_2020', 'annee_consommation_2021', 'annee_consommation_2022', 'annee_consommation_Année de référence', 'zone_climatique_GUA', 'zone_climatique_GUY', 'zone_climatique_H1a', 'zone_climatique_H1b', 'zone_climatique_H1c', 'zone_climatique_H2a', 'zone_climatique_H2b', 'zone_climatique_H2c', 'zone_climatique_H2d', 'zone_climatique_H3', 'zone_climatique_MAR', 'zone_climatique_MAY', 'zone_climatique_REU', 'code_region_00', 'code_region_01', 'code_region_02', 'code_region_03', 'code_region_04', 'code_region_06', 'code_region_11', 'code_region_24', 'code_region_27', 'code_region_28', 'code_region_32', 'code_region_44', 'code_region_52', 'code_region_53', 'code_region_75', 'code_region_76', 'code_region_84', 'code_region_93', 'code_region_94', 'code_region_ND', 'code_departement_encoded', 'commune_frequency', 'vecteur_energie_Bois', 'vecteur_energie_Electricite', 'vecteur_energie_Fioul', 'vecteur_energie_Gaz', 'vecteur_energie_Non spécifié', 'vecteur_energie_Reseau de chaleur', 'vecteur_energie_Reseau de froid', 'annee_consommation_reference', 'densite_energetique', 'ratio_declaration_consommation', 'consommation_relative_climat', 'surface_par_declaration', 'consommation_log', 'consommation_declaree', 'consommation_anormale_Anormale', 'consommation_anormale_Normale']\n",
      "Colonnes dans TestData : ['id', 'nombre_declaration', 'surface_declaree', 'annee_consommation_2020', 'annee_consommation_2021', 'annee_consommation_2022', 'annee_consommation_Année de référence', 'zone_climatique_GUA', 'zone_climatique_GUY', 'zone_climatique_H1a', 'zone_climatique_H1b', 'zone_climatique_H1c', 'zone_climatique_H2a', 'zone_climatique_H2b', 'zone_climatique_H2c', 'zone_climatique_H2d', 'zone_climatique_H3', 'zone_climatique_MAR', 'zone_climatique_MAY', 'zone_climatique_REU', 'code_region_00', 'code_region_01', 'code_region_02', 'code_region_03', 'code_region_04', 'code_region_06', 'code_region_11', 'code_region_24', 'code_region_27', 'code_region_28', 'code_region_32', 'code_region_44', 'code_region_52', 'code_region_53', 'code_region_75', 'code_region_76', 'code_region_84', 'code_region_93', 'code_region_94', 'code_region_ND', 'code_departement_encoded', 'commune_frequency', 'vecteur_energie_Bois', 'vecteur_energie_Electricite', 'vecteur_energie_Fioul', 'vecteur_energie_Gaz', 'vecteur_energie_Non spécifié', 'vecteur_energie_Reseau de chaleur', 'vecteur_energie_Reseau de froid', 'annee_consommation_reference', 'densite_energetique', 'ratio_declaration_consommation', 'consommation_relative_climat', 'surface_par_declaration', 'consommation_log', 'consommation_declaree', 'consommation_anormale_Anormale', 'consommation_anormale_Normale']\n"
     ]
    },
    {
     "name": "stderr",
     "output_type": "stream",
     "text": [
      "C:\\Users\\aboys\\AppData\\Local\\Temp\\ipykernel_3920\\1067995654.py:10: SADeprecationWarning: The AutomapBase.prepare.reflect parameter is deprecated and will be removed in a future release.  Reflection is enabled when AutomapBase.prepare.autoload_with is passed.\n",
      "  Base.prepare(engine_energy, reflect=True)\n"
     ]
    }
   ],
   "source": [
    "from sqlalchemy import create_engine, MetaData, Table\n",
    "from sqlalchemy.ext.automap import automap_base\n",
    "from sqlalchemy.orm import sessionmaker\n",
    "\n",
    "# Connexion à la base SQLite\n",
    "engine_energy = create_engine(\"sqlite:///energy_consumption.db\")\n",
    "\n",
    "# Automap Base pour charger les tables existantes\n",
    "Base = automap_base()\n",
    "Base.prepare(engine_energy, reflect=True)\n",
    "\n",
    "# Accéder aux classes générées dynamiquement\n",
    "TrainData = Base.classes.train_data\n",
    "TestData = Base.classes.test_data\n",
    "\n",
    "# Création de la session pour la base\n",
    "SessionEnergy = sessionmaker(bind=engine_energy)\n",
    "session_energy = SessionEnergy()\n",
    "\n",
    "# Vérifier les colonnes avec inspect\n",
    "from sqlalchemy.inspection import inspect\n",
    "\n",
    "def get_table_columns(table_class):\n",
    "    \"\"\"Récupère les noms des colonnes d'une table SQLAlchemy ORM.\"\"\"\n",
    "    inspector = inspect(table_class)\n",
    "    return [column.name for column in inspector.columns]\n",
    "\n",
    "# Lister les colonnes\n",
    "train_columns = get_table_columns(TrainData)\n",
    "print(\"Colonnes dans TrainData :\", train_columns)\n",
    "\n",
    "test_columns = get_table_columns(TestData)\n",
    "print(\"Colonnes dans TestData :\", test_columns)"
   ]
  },
  {
   "cell_type": "code",
   "execution_count": null,
   "metadata": {},
   "outputs": [
    {
     "name": "stdout",
     "output_type": "stream",
     "text": [
      "Statistiques descriptives pour TrainData : {'consommation_declaree': {'min': np.float64(15699.0), 'max': np.float64(36031802.0), 'mean': np.float64(7262489.876025815), 'std': np.float64(7890199.434781845)}, 'densite_energetique': {'min': np.float64(0.0), 'max': np.float64(1.0), 'mean': np.float64(0.04609462904969893), 'std': np.float64(0.006208797707609907)}, 'ratio_declaration_consommation': {'min': np.float64(0.0), 'max': np.float64(1.0), 'mean': np.float64(0.9675548034463632), 'std': np.float64(0.039201585209949145)}, 'consommation_relative_climat': {'min': np.float64(0.0), 'max': np.float64(1.0), 'mean': np.float64(0.17598141973571388), 'std': np.float64(0.19311606131298442)}, 'surface_par_declaration': {'min': np.float64(0.0), 'max': np.float64(1.0), 'mean': np.float64(0.8291444548842284), 'std': np.float64(0.017469140038022704)}, 'consommation_log': {'min': np.float64(-4.482067749848343), 'max': np.float64(1.8084046368457996), 'mean': np.float64(7.925741614725044e-18), 'std': np.float64(1.0000199193267287)}}\n"
     ]
    }
   ],
   "source": [
    "import pandas as pd\n",
    "\n",
    "def get_statistics_with_pandas(session, table_class, columns):\n",
    "    \"\"\"Calcule les statistiques descriptives pour les colonnes spécifiées via Pandas.\"\"\"\n",
    "    # Charger les données de la table dans un DataFrame Pandas\n",
    "    data = pd.read_sql(session.query(table_class).statement, session.bind)\n",
    "    stats = {}\n",
    "    for col in columns:\n",
    "        stats[col] = {\n",
    "            \"min\": data[col].min(),\n",
    "            \"max\": data[col].max(),\n",
    "            \"mean\": data[col].mean(),\n",
    "            \"std\": data[col].std()  # Écart-type calculé avec pandas\n",
    "        }\n",
    "    return stats\n",
    "\n",
    "# Liste des colonnes à analyser\n",
    "columns_to_analyze = [\n",
    "    \"consommation_declaree\",\n",
    "    \"densite_energetique\",\n",
    "    \"ratio_declaration_consommation\",\n",
    "    \"consommation_relative_climat\",\n",
    "    \"surface_par_declaration\",\n",
    "    \"consommation_log\"\n",
    "]\n",
    "\n",
    "# Exemple d'exécution pour TrainData\n",
    "train_stats = get_statistics_with_pandas(session_energy, TrainData, columns_to_analyze)\n",
    "print(\"Statistiques descriptives pour TrainData :\", train_stats)"
   ]
  },
  {
   "cell_type": "code",
   "execution_count": 3,
   "metadata": {},
   "outputs": [
    {
     "name": "stdout",
     "output_type": "stream",
     "text": [
      "Corrélations pour TrainData : densite_energetique               0.005928\n",
      "ratio_declaration_consommation   -0.056601\n",
      "consommation_relative_climat      0.840862\n",
      "surface_par_declaration          -0.067725\n",
      "consommation_log                  0.836202\n",
      "consommation_declaree             1.000000\n",
      "Name: consommation_declaree, dtype: float64\n"
     ]
    }
   ],
   "source": [
    "import pandas as pd\n",
    "\n",
    "def compute_correlations(session, table_class, target, features):\n",
    "    \"\"\"Calcule les corrélations entre une cible et plusieurs features.\"\"\"\n",
    "    # Charger les données dans un DataFrame\n",
    "    data = pd.read_sql(session.query(table_class).statement, session.bind)\n",
    "    # Calculer les corrélations\n",
    "    correlations = data[features + [target]].corr()[target]\n",
    "    return correlations\n",
    "\n",
    "# Liste des colonnes explicatives\n",
    "features_to_correlate = [\n",
    "    \"densite_energetique\",\n",
    "    \"ratio_declaration_consommation\",\n",
    "    \"consommation_relative_climat\",\n",
    "    \"surface_par_declaration\",\n",
    "    \"consommation_log\"\n",
    "]\n",
    "\n",
    "# Exemple d'exécution pour TrainData\n",
    "train_correlations = compute_correlations(session_energy, TrainData, \"consommation_declaree\", features_to_correlate)\n",
    "print(\"Corrélations pour TrainData :\", train_correlations)"
   ]
  },
  {
   "cell_type": "code",
   "execution_count": 4,
   "metadata": {},
   "outputs": [
    {
     "name": "stdout",
     "output_type": "stream",
     "text": [
      "Lignes anormales dans TrainData : 15\n"
     ]
    }
   ],
   "source": [
    "def get_anomalous_rows(session, table_class):\n",
    "    \"\"\"Récupère les lignes avec des valeurs anormales.\"\"\"\n",
    "    return session.query(table_class).filter_by(consommation_anormale_Anormale=1).all()\n",
    "\n",
    "# Exemple d'exécution pour TrainData\n",
    "anomalous_rows_train = get_anomalous_rows(session_energy, TrainData)\n",
    "print(f\"Lignes anormales dans TrainData : {len(anomalous_rows_train)}\")"
   ]
  },
  {
   "cell_type": "code",
   "execution_count": 5,
   "metadata": {},
   "outputs": [
    {
     "name": "stdout",
     "output_type": "stream",
     "text": [
      "Lignes pour zone climatique H1a dans TrainData : 6327\n"
     ]
    }
   ],
   "source": [
    "def filter_by_zone_climatique(session, table_class, zone_climatique):\n",
    "    \"\"\"Filtre les lignes par une zone climatique spécifique.\"\"\"\n",
    "    return session.query(table_class).filter(getattr(table_class, zone_climatique) == 1).all()\n",
    "\n",
    "# Exemple d'exécution pour une zone climatique spécifique\n",
    "zone_climatique_rows = filter_by_zone_climatique(session_energy, TrainData, \"zone_climatique_H1a\")\n",
    "print(f\"Lignes pour zone climatique H1a dans TrainData : {len(zone_climatique_rows)}\")"
   ]
  },
  {
   "cell_type": "code",
   "execution_count": 6,
   "metadata": {},
   "outputs": [
    {
     "name": "stdout",
     "output_type": "stream",
     "text": [
      "Lignes pour vecteur énergétique Gaz dans TrainData : 9032\n"
     ]
    }
   ],
   "source": [
    "def filter_by_vecteur_energie(session, table_class, vecteur_energie):\n",
    "    \"\"\"Filtre les lignes par un vecteur énergétique spécifique.\"\"\"\n",
    "    return session.query(table_class).filter(getattr(table_class, vecteur_energie) == 1).all()\n",
    "\n",
    "# Exemple d'exécution pour un vecteur énergétique spécifique\n",
    "vecteur_energie_rows = filter_by_vecteur_energie(session_energy, TrainData, \"vecteur_energie_Gaz\")\n",
    "print(f\"Lignes pour vecteur énergétique Gaz dans TrainData : {len(vecteur_energie_rows)}\")"
   ]
  },
  {
   "cell_type": "code",
   "execution_count": 9,
   "metadata": {},
   "outputs": [
    {
     "name": "stdout",
     "output_type": "stream",
     "text": [
      "Lignes anormales dans TrainData : 15\n",
      "{'_sa_instance_state': <sqlalchemy.orm.state.InstanceState object at 0x0000024BF5FE37D0>, 'annee_consommation_Année de référence': 1.0, 'zone_climatique_H2c': 0.0, 'code_region_02': 0.0, 'code_region_28': 0.0, 'code_region_93': 0.0, 'vecteur_energie_Gaz': 1.0, 'surface_par_declaration': 0.8290582433428461, 'zone_climatique_GUA': 0.0, 'zone_climatique_H2d': 0.0, 'code_region_03': 0.0, 'code_region_32': 0.0, 'code_region_94': 0.0, 'vecteur_energie_Non spécifié': 0.0, 'consommation_log': 0.7011061014189025, 'nombre_declaration': -0.1691432351116401, 'zone_climatique_GUY': 0.0, 'zone_climatique_H3': 0.0, 'code_region_04': 0.0, 'code_region_44': 1.0, 'code_region_ND': 0.0, 'vecteur_energie_Reseau de chaleur': 0.0, 'consommation_declaree': 9227708.0, 'zone_climatique_H1a': 0.0, 'zone_climatique_MAR': 0.0, 'code_region_06': 0.0, 'code_region_52': 0.0, 'code_departement_encoded': 0.5926531420783135, 'vecteur_energie_Reseau de froid': 0.0, 'consommation_anormale_Anormale': 1.0, 'surface_declaree': 3.1993332062342816e-05, 'zone_climatique_H1b': 1.0, 'zone_climatique_MAY': 0.0, 'code_region_53': 0.0, 'code_region_75': 0.0, 'commune_frequency': 0.0120481927710843, 'annee_consommation_reference': 0.0, 'consommation_anormale_Normale': 0.0, 'id': 4668, 'annee_consommation_2020': 0.0, 'zone_climatique_H1c': 0.0, 'zone_climatique_REU': 0.0, 'code_region_11': 0.0, 'code_region_76': 0.0, 'vecteur_energie_Bois': 0.0, 'densite_energetique': 1.0, 'annee_consommation_2021': 0.0, 'zone_climatique_H2a': 0.0, 'code_region_00': 0.0, 'code_region_24': 0.0, 'code_region_84': 0.0, 'vecteur_energie_Electricite': 0.0, 'ratio_declaration_consommation': 0.9691303253385956, 'annee_consommation_2022': 0.0, 'zone_climatique_H2b': 0.0, 'code_region_01': 0.0, 'code_region_27': 0.0, 'vecteur_energie_Fioul': 0.0, 'consommation_relative_climat': 0.107820104801455}\n",
      "{'_sa_instance_state': <sqlalchemy.orm.state.InstanceState object at 0x0000024BF5FE3830>, 'annee_consommation_Année de référence': 0.0, 'zone_climatique_H2c': 0.0, 'code_region_02': 0.0, 'code_region_28': 0.0, 'code_region_93': 0.0, 'vecteur_energie_Gaz': 0.0, 'surface_par_declaration': 0.8290635229610995, 'zone_climatique_GUA': 0.0, 'zone_climatique_H2d': 0.0, 'code_region_03': 0.0, 'code_region_32': 0.0, 'code_region_94': 0.0, 'vecteur_energie_Non spécifié': 0.0, 'consommation_log': 0.7088950445929019, 'nombre_declaration': 0.0542364483129684, 'zone_climatique_GUY': 0.0, 'zone_climatique_H3': 0.0, 'code_region_04': 0.0, 'code_region_44': 0.0, 'code_region_ND': 0.0, 'vecteur_energie_Reseau de chaleur': 0.0, 'consommation_declaree': 9316552.0, 'zone_climatique_H1a': 0.0, 'zone_climatique_MAR': 0.0, 'code_region_06': 0.0, 'code_region_52': 1.0, 'code_departement_encoded': -0.9115118426135728, 'vecteur_energie_Reseau de froid': 0.0, 'consommation_anormale_Anormale': 1.0, 'surface_declaree': 0.0007322105401864, 'zone_climatique_H1b': 0.0, 'zone_climatique_MAY': 0.0, 'code_region_53': 0.0, 'code_region_75': 0.0, 'commune_frequency': 0.0140562248995983, 'annee_consommation_reference': 1.0, 'consommation_anormale_Normale': 0.0, 'id': 4909, 'annee_consommation_2020': 0.0, 'zone_climatique_H1c': 0.0, 'zone_climatique_REU': 0.0, 'code_region_11': 0.0, 'code_region_76': 0.0, 'vecteur_energie_Bois': 0.0, 'densite_energetique': 0.0881182914982205, 'annee_consommation_2021': 1.0, 'zone_climatique_H2a': 0.0, 'code_region_00': 0.0, 'code_region_24': 0.0, 'code_region_84': 0.0, 'vecteur_energie_Electricite': 1.0, 'ratio_declaration_consommation': 0.9802399770289828, 'annee_consommation_2022': 0.0, 'zone_climatique_H2b': 1.0, 'code_region_01': 0.0, 'code_region_27': 0.0, 'vecteur_energie_Fioul': 0.0, 'consommation_relative_climat': 0.2582415149134818}\n",
      "{'_sa_instance_state': <sqlalchemy.orm.state.InstanceState object at 0x0000024BF5FE3890>, 'annee_consommation_Année de référence': 0.0, 'zone_climatique_H2c': 0.0, 'code_region_02': 0.0, 'code_region_28': 0.0, 'code_region_93': 0.0, 'vecteur_energie_Gaz': 1.0, 'surface_par_declaration': 0.8290635229610995, 'zone_climatique_GUA': 0.0, 'zone_climatique_H2d': 0.0, 'code_region_03': 0.0, 'code_region_32': 0.0, 'code_region_94': 0.0, 'vecteur_energie_Non spécifié': 0.0, 'consommation_log': 0.7088950445929019, 'nombre_declaration': 0.0542364483129684, 'zone_climatique_GUY': 0.0, 'zone_climatique_H3': 0.0, 'code_region_04': 0.0, 'code_region_44': 0.0, 'code_region_ND': 0.0, 'vecteur_energie_Reseau de chaleur': 0.0, 'consommation_declaree': 9316552.0, 'zone_climatique_H1a': 0.0, 'zone_climatique_MAR': 0.0, 'code_region_06': 0.0, 'code_region_52': 1.0, 'code_departement_encoded': -0.9115118426135728, 'vecteur_energie_Reseau de froid': 0.0, 'consommation_anormale_Anormale': 1.0, 'surface_declaree': 0.0007322105401864, 'zone_climatique_H1b': 0.0, 'zone_climatique_MAY': 0.0, 'code_region_53': 0.0, 'code_region_75': 0.0, 'commune_frequency': 0.0140562248995983, 'annee_consommation_reference': 1.0, 'consommation_anormale_Normale': 0.0, 'id': 7501, 'annee_consommation_2020': 0.0, 'zone_climatique_H1c': 0.0, 'zone_climatique_REU': 0.0, 'code_region_11': 0.0, 'code_region_76': 0.0, 'vecteur_energie_Bois': 0.0, 'densite_energetique': 0.0881182914982205, 'annee_consommation_2021': 1.0, 'zone_climatique_H2a': 0.0, 'code_region_00': 0.0, 'code_region_24': 0.0, 'code_region_84': 0.0, 'vecteur_energie_Electricite': 0.0, 'ratio_declaration_consommation': 0.9802399770289828, 'annee_consommation_2022': 0.0, 'zone_climatique_H2b': 1.0, 'code_region_01': 0.0, 'code_region_27': 0.0, 'vecteur_energie_Fioul': 0.0, 'consommation_relative_climat': 0.2582415149134818}\n",
      "{'_sa_instance_state': <sqlalchemy.orm.state.InstanceState object at 0x0000024BF5FE38F0>, 'annee_consommation_Année de référence': 0.0, 'zone_climatique_H2c': 0.0, 'code_region_02': 0.0, 'code_region_28': 0.0, 'code_region_93': 0.0, 'vecteur_energie_Gaz': 0.0, 'surface_par_declaration': 0.829057161454544, 'zone_climatique_GUA': 0.0, 'zone_climatique_H2d': 1.0, 'code_region_03': 0.0, 'code_region_32': 0.0, 'code_region_94': 0.0, 'vecteur_energie_Non spécifié': 0.0, 'consommation_log': 0.3395043504893112, 'nombre_declaration': -0.0574533933993358, 'zone_climatique_GUY': 0.0, 'zone_climatique_H3': 0.0, 'code_region_04': 0.0, 'code_region_44': 0.0, 'code_region_ND': 0.0, 'vecteur_energie_Reseau de chaleur': 0.0, 'consommation_declaree': 5914285.0, 'zone_climatique_H1a': 0.0, 'zone_climatique_MAR': 0.0, 'code_region_06': 0.0, 'code_region_52': 0.0, 'code_departement_encoded': 0.4957516419790669, 'vecteur_energie_Reseau de froid': 0.0, 'consommation_anormale_Anormale': 1.0, 'surface_declaree': 0.0001720367736871, 'zone_climatique_H1b': 0.0, 'zone_climatique_MAY': 0.0, 'code_region_53': 0.0, 'code_region_75': 0.0, 'commune_frequency': 0.0080321285140562, 'annee_consommation_reference': 1.0, 'consommation_anormale_Normale': 0.0, 'id': 7518, 'annee_consommation_2020': 0.0, 'zone_climatique_H1c': 0.0, 'zone_climatique_REU': 0.0, 'code_region_11': 0.0, 'code_region_76': 0.0, 'vecteur_energie_Bois': 0.0, 'densite_energetique': 0.1597391815283095, 'annee_consommation_2021': 1.0, 'zone_climatique_H2a': 0.0, 'code_region_00': 0.0, 'code_region_24': 0.0, 'code_region_84': 1.0, 'vecteur_energie_Electricite': 1.0, 'ratio_declaration_consommation': 0.966755319065782, 'annee_consommation_2022': 0.0, 'zone_climatique_H2b': 0.0, 'code_region_01': 0.0, 'code_region_27': 0.0, 'vecteur_energie_Fioul': 0.0, 'consommation_relative_climat': 0.1637763530385283}\n",
      "{'_sa_instance_state': <sqlalchemy.orm.state.InstanceState object at 0x0000024BF5FE3950>, 'annee_consommation_Année de référence': 0.0, 'zone_climatique_H2c': 0.0, 'code_region_02': 0.0, 'code_region_28': 0.0, 'code_region_93': 0.0, 'vecteur_energie_Gaz': 1.0, 'surface_par_declaration': 0.8290578687537882, 'zone_climatique_GUA': 0.0, 'zone_climatique_H2d': 0.0, 'code_region_03': 0.0, 'code_region_32': 0.0, 'code_region_94': 0.0, 'vecteur_energie_Non spécifié': 0.0, 'consommation_log': 0.4573879862458163, 'nombre_declaration': -0.6159026019608574, 'zone_climatique_GUY': 0.0, 'zone_climatique_H3': 0.0, 'code_region_04': 0.0, 'code_region_44': 0.0, 'code_region_ND': 0.0, 'vecteur_energie_Reseau de chaleur': 0.0, 'consommation_declaree': 6837282.0, 'zone_climatique_H1a': 0.0, 'zone_climatique_MAR': 0.0, 'code_region_06': 0.0, 'code_region_52': 0.0, 'code_departement_encoded': -0.0469903128168222, 'vecteur_energie_Reseau de froid': 0.0, 'consommation_anormale_Anormale': 1.0, 'surface_declaree': 0.0007147051099833, 'zone_climatique_H1b': 0.0, 'zone_climatique_MAY': 0.0, 'code_region_53': 0.0, 'code_region_75': 0.0, 'commune_frequency': 0.0120481927710843, 'annee_consommation_reference': 1.0, 'consommation_anormale_Normale': 0.0, 'id': 10903, 'annee_consommation_2020': 0.0, 'zone_climatique_H1c': 1.0, 'zone_climatique_REU': 0.0, 'code_region_11': 0.0, 'code_region_76': 0.0, 'vecteur_energie_Bois': 0.0, 'densite_energetique': 0.0776755805219522, 'annee_consommation_2021': 0.0, 'zone_climatique_H2a': 0.0, 'code_region_00': 0.0, 'code_region_24': 0.0, 'code_region_84': 1.0, 'vecteur_energie_Electricite': 0.0, 'ratio_declaration_consommation': 0.97126330818329, 'annee_consommation_2022': 1.0, 'zone_climatique_H2b': 0.0, 'code_region_01': 0.0, 'code_region_27': 0.0, 'vecteur_energie_Fioul': 0.0, 'consommation_relative_climat': 0.1894036953414976}\n",
      "{'_sa_instance_state': <sqlalchemy.orm.state.InstanceState object at 0x0000024BF5FE39B0>, 'annee_consommation_Année de référence': 1.0, 'zone_climatique_H2c': 0.0, 'code_region_02': 0.0, 'code_region_28': 0.0, 'code_region_93': 0.0, 'vecteur_energie_Gaz': 1.0, 'surface_par_declaration': 0.8290588682437986, 'zone_climatique_GUA': 0.0, 'zone_climatique_H2d': 0.0, 'code_region_03': 0.0, 'code_region_32': 0.0, 'code_region_94': 0.0, 'vecteur_energie_Non spécifié': 0.0, 'consommation_log': 0.7692352132615112, 'nombre_declaration': 0.3893059734498814, 'zone_climatique_GUY': 0.0, 'zone_climatique_H3': 0.0, 'code_region_04': 0.0, 'code_region_44': 0.0, 'code_region_ND': 0.0, 'vecteur_energie_Reseau de chaleur': 0.0, 'consommation_declaree': 10034435.0, 'zone_climatique_H1a': 0.0, 'zone_climatique_MAR': 0.0, 'code_region_06': 0.0, 'code_region_52': 0.0, 'code_departement_encoded': 1.3780770878628563, 'vecteur_energie_Reseau de froid': 0.0, 'consommation_anormale_Anormale': 1.0, 'surface_declaree': 0.0005571562381554, 'zone_climatique_H1b': 0.0, 'zone_climatique_MAY': 0.0, 'code_region_53': 0.0, 'code_region_75': 0.0, 'commune_frequency': 0.0120481927710843, 'annee_consommation_reference': 0.0, 'consommation_anormale_Normale': 0.0, 'id': 12971, 'annee_consommation_2020': 0.0, 'zone_climatique_H1c': 1.0, 'zone_climatique_REU': 0.0, 'code_region_11': 0.0, 'code_region_76': 0.0, 'vecteur_energie_Bois': 0.0, 'densite_energetique': 0.1056024113042841, 'annee_consommation_2021': 0.0, 'zone_climatique_H2a': 0.0, 'code_region_00': 0.0, 'code_region_24': 0.0, 'code_region_84': 1.0, 'vecteur_energie_Electricite': 0.0, 'ratio_declaration_consommation': 0.9730734099772684, 'annee_consommation_2022': 0.0, 'zone_climatique_H2b': 0.0, 'code_region_01': 0.0, 'code_region_27': 0.0, 'vecteur_energie_Fioul': 0.0, 'consommation_relative_climat': 0.107820104801455}\n",
      "{'_sa_instance_state': <sqlalchemy.orm.state.InstanceState object at 0x0000024BF5FE3A10>, 'annee_consommation_Année de référence': 0.0, 'zone_climatique_H2c': 0.0, 'code_region_02': 0.0, 'code_region_28': 0.0, 'code_region_93': 0.0, 'vecteur_energie_Gaz': 1.0, 'surface_par_declaration': 0.829057161454544, 'zone_climatique_GUA': 0.0, 'zone_climatique_H2d': 1.0, 'code_region_03': 0.0, 'code_region_32': 0.0, 'code_region_94': 0.0, 'vecteur_energie_Non spécifié': 0.0, 'consommation_log': 0.3395043504893112, 'nombre_declaration': -0.0574533933993358, 'zone_climatique_GUY': 0.0, 'zone_climatique_H3': 0.0, 'code_region_04': 0.0, 'code_region_44': 0.0, 'code_region_ND': 0.0, 'vecteur_energie_Reseau de chaleur': 0.0, 'consommation_declaree': 5914285.0, 'zone_climatique_H1a': 0.0, 'zone_climatique_MAR': 0.0, 'code_region_06': 0.0, 'code_region_52': 0.0, 'code_departement_encoded': 0.4957516419790669, 'vecteur_energie_Reseau de froid': 0.0, 'consommation_anormale_Anormale': 1.0, 'surface_declaree': 0.0001720367736871, 'zone_climatique_H1b': 0.0, 'zone_climatique_MAY': 0.0, 'code_region_53': 0.0, 'code_region_75': 0.0, 'commune_frequency': 0.0080321285140562, 'annee_consommation_reference': 1.0, 'consommation_anormale_Normale': 0.0, 'id': 14278, 'annee_consommation_2020': 0.0, 'zone_climatique_H1c': 0.0, 'zone_climatique_REU': 0.0, 'code_region_11': 0.0, 'code_region_76': 0.0, 'vecteur_energie_Bois': 0.0, 'densite_energetique': 0.1597391815283095, 'annee_consommation_2021': 1.0, 'zone_climatique_H2a': 0.0, 'code_region_00': 0.0, 'code_region_24': 0.0, 'code_region_84': 1.0, 'vecteur_energie_Electricite': 0.0, 'ratio_declaration_consommation': 0.966755319065782, 'annee_consommation_2022': 0.0, 'zone_climatique_H2b': 0.0, 'code_region_01': 0.0, 'code_region_27': 0.0, 'vecteur_energie_Fioul': 0.0, 'consommation_relative_climat': 0.1637763530385283}\n",
      "{'_sa_instance_state': <sqlalchemy.orm.state.InstanceState object at 0x0000024BF5FE3A70>, 'annee_consommation_Année de référence': 0.0, 'zone_climatique_H2c': 0.0, 'code_region_02': 0.0, 'code_region_28': 0.0, 'code_region_93': 0.0, 'vecteur_energie_Gaz': 0.0, 'surface_par_declaration': 0.8290536361746506, 'zone_climatique_GUA': 0.0, 'zone_climatique_H2d': 0.0, 'code_region_03': 0.0, 'code_region_32': 0.0, 'code_region_94': 0.0, 'vecteur_energie_Non spécifié': 0.0, 'consommation_log': 0.3999440781530191, 'nombre_declaration': -0.0574533933993358, 'zone_climatique_GUY': 0.0, 'zone_climatique_H3': 0.0, 'code_region_04': 0.0, 'code_region_44': 0.0, 'code_region_ND': 0.0, 'vecteur_energie_Reseau de chaleur': 0.0, 'consommation_declaree': 6370788.0, 'zone_climatique_H1a': 0.0, 'zone_climatique_MAR': 0.0, 'code_region_06': 0.0, 'code_region_52': 0.0, 'code_departement_encoded': 0.5018287010373423, 'vecteur_energie_Reseau de froid': 0.0, 'consommation_anormale_Anormale': 1.0, 'surface_declaree': 0.0006971996797802, 'zone_climatique_H1b': 0.0, 'zone_climatique_MAY': 0.0, 'code_region_53': 0.0, 'code_region_75': 0.0, 'commune_frequency': 0.0080321285140562, 'annee_consommation_reference': 1.0, 'consommation_anormale_Normale': 0.0, 'id': 14558, 'annee_consommation_2020': 0.0, 'zone_climatique_H1c': 1.0, 'zone_climatique_REU': 0.0, 'code_region_11': 0.0, 'code_region_76': 0.0, 'vecteur_energie_Bois': 0.0, 'densite_energetique': 0.0762570079397892, 'annee_consommation_2021': 0.0, 'zone_climatique_H2a': 0.0, 'code_region_00': 0.0, 'code_region_24': 0.0, 'code_region_84': 1.0, 'vecteur_energie_Electricite': 1.0, 'ratio_declaration_consommation': 0.9663653033528988, 'annee_consommation_2022': 1.0, 'zone_climatique_H2b': 0.0, 'code_region_01': 0.0, 'code_region_27': 0.0, 'vecteur_energie_Fioul': 0.0, 'consommation_relative_climat': 0.1764513223432307}\n",
      "{'_sa_instance_state': <sqlalchemy.orm.state.InstanceState object at 0x0000024BF5FE3AD0>, 'annee_consommation_Année de référence': 0.0, 'zone_climatique_H2c': 0.0, 'code_region_02': 0.0, 'code_region_28': 0.0, 'code_region_93': 0.0, 'vecteur_energie_Gaz': 1.0, 'surface_par_declaration': 0.8290575358962605, 'zone_climatique_GUA': 0.0, 'zone_climatique_H2d': 0.0, 'code_region_03': 0.0, 'code_region_32': 0.0, 'code_region_94': 0.0, 'vecteur_energie_Non spécifié': 0.0, 'consommation_log': 0.7524606695891735, 'nombre_declaration': -0.448367839392401, 'zone_climatique_GUY': 0.0, 'zone_climatique_H3': 0.0, 'code_region_04': 0.0, 'code_region_44': 0.0, 'code_region_ND': 0.0, 'vecteur_energie_Reseau de chaleur': 0.0, 'consommation_declaree': 9829487.0, 'zone_climatique_H1a': 0.0, 'zone_climatique_MAR': 0.0, 'code_region_06': 0.0, 'code_region_52': 1.0, 'code_departement_encoded': -1.1321697509915516, 'vecteur_energie_Reseau de froid': 0.0, 'consommation_anormale_Anormale': 1.0, 'surface_declaree': 0.0009072648422175, 'zone_climatique_H1b': 0.0, 'zone_climatique_MAY': 0.0, 'code_region_53': 0.0, 'code_region_75': 0.0, 'commune_frequency': 0.0080321285140562, 'annee_consommation_reference': 1.0, 'consommation_anormale_Normale': 0.0, 'id': 16555, 'annee_consommation_2020': 1.0, 'zone_climatique_H1c': 0.0, 'zone_climatique_REU': 0.0, 'code_region_11': 0.0, 'code_region_76': 0.0, 'vecteur_energie_Bois': 0.0, 'densite_energetique': 0.0818682209267668, 'annee_consommation_2021': 0.0, 'zone_climatique_H2a': 0.0, 'code_region_00': 0.0, 'code_region_24': 0.0, 'code_region_84': 0.0, 'vecteur_energie_Electricite': 0.0, 'ratio_declaration_consommation': 0.9707321243760496, 'annee_consommation_2022': 0.0, 'zone_climatique_H2b': 1.0, 'code_region_01': 0.0, 'code_region_27': 0.0, 'vecteur_energie_Fioul': 0.0, 'consommation_relative_climat': 0.272483338910931}\n",
      "{'_sa_instance_state': <sqlalchemy.orm.state.InstanceState object at 0x0000024BF5FE3B30>, 'annee_consommation_Année de référence': 0.0, 'zone_climatique_H2c': 1.0, 'code_region_02': 0.0, 'code_region_28': 0.0, 'code_region_93': 0.0, 'vecteur_energie_Gaz': 1.0, 'surface_par_declaration': 0.8290590416606276, 'zone_climatique_GUA': 0.0, 'zone_climatique_H2d': 0.0, 'code_region_03': 0.0, 'code_region_32': 0.0, 'code_region_94': 0.0, 'vecteur_energie_Non spécifié': 0.0, 'consommation_log': 0.4455972750106063, 'nombre_declaration': 0.556840736018338, 'zone_climatique_GUY': 0.0, 'zone_climatique_H3': 0.0, 'code_region_04': 0.0, 'code_region_44': 0.0, 'code_region_ND': 0.0, 'vecteur_energie_Reseau de chaleur': 0.0, 'consommation_declaree': 6738824.0, 'zone_climatique_H1a': 0.0, 'zone_climatique_MAR': 0.0, 'code_region_06': 0.0, 'code_region_52': 0.0, 'code_departement_encoded': -0.7730361257580837, 'vecteur_energie_Reseau de froid': 0.0, 'consommation_anormale_Anormale': 1.0, 'surface_declaree': 0.0010473082838423, 'zone_climatique_H1b': 0.0, 'zone_climatique_MAY': 0.0, 'code_region_53': 0.0, 'code_region_75': 0.0, 'commune_frequency': 0.0120481927710843, 'annee_consommation_reference': 1.0, 'consommation_anormale_Normale': 0.0, 'id': 18089, 'annee_consommation_2020': 0.0, 'zone_climatique_H1c': 0.0, 'zone_climatique_REU': 0.0, 'code_region_11': 0.0, 'code_region_76': 1.0, 'vecteur_energie_Bois': 0.0, 'densite_energetique': 0.0673160112090341, 'annee_consommation_2021': 0.0, 'zone_climatique_H2a': 0.0, 'code_region_00': 0.0, 'code_region_24': 0.0, 'code_region_84': 0.0, 'vecteur_energie_Electricite': 0.0, 'ratio_declaration_consommation': 0.9724022477041194, 'annee_consommation_2022': 1.0, 'zone_climatique_H2b': 0.0, 'code_region_01': 0.0, 'code_region_27': 0.0, 'vecteur_energie_Fioul': 0.0, 'consommation_relative_climat': 0.1866699737059281}\n",
      "{'_sa_instance_state': <sqlalchemy.orm.state.InstanceState object at 0x0000024BF5FE3B90>, 'annee_consommation_Année de référence': 0.0, 'zone_climatique_H2c': 1.0, 'code_region_02': 0.0, 'code_region_28': 0.0, 'code_region_93': 0.0, 'vecteur_energie_Gaz': 0.0, 'surface_par_declaration': 0.8290590568283005, 'zone_climatique_GUA': 0.0, 'zone_climatique_H2d': 0.0, 'code_region_03': 0.0, 'code_region_32': 0.0, 'code_region_94': 0.0, 'vecteur_energie_Non spécifié': 0.0, 'consommation_log': 0.1751467106319863, 'nombre_declaration': 0.4451508943060336, 'zone_climatique_GUY': 0.0, 'zone_climatique_H3': 0.0, 'code_region_04': 0.0, 'code_region_44': 0.0, 'code_region_ND': 0.0, 'vecteur_energie_Reseau de chaleur': 0.0, 'consommation_declaree': 4831606.0, 'zone_climatique_H1a': 0.0, 'zone_climatique_MAR': 0.0, 'code_region_06': 0.0, 'code_region_52': 0.0, 'code_departement_encoded': -0.3439076392503387, 'vecteur_energie_Reseau de froid': 0.0, 'consommation_anormale_Anormale': 1.0, 'surface_declaree': 0.0008547485516082, 'zone_climatique_H1b': 0.0, 'zone_climatique_MAY': 0.0, 'code_region_53': 0.0, 'code_region_75': 1.0, 'commune_frequency': 0.0100401606425702, 'annee_consommation_reference': 1.0, 'consommation_anormale_Normale': 0.0, 'id': 18173, 'annee_consommation_2020': 0.0, 'zone_climatique_H1c': 0.0, 'zone_climatique_REU': 0.0, 'code_region_11': 0.0, 'code_region_76': 0.0, 'vecteur_energie_Bois': 0.0, 'densite_energetique': 0.064730352022636, 'annee_consommation_2021': 0.0, 'zone_climatique_H2a': 0.0, 'code_region_00': 0.0, 'code_region_24': 0.0, 'code_region_84': 0.0, 'vecteur_energie_Electricite': 1.0, 'ratio_declaration_consommation': 0.9723409875702193, 'annee_consommation_2022': 1.0, 'zone_climatique_H2b': 0.0, 'code_region_01': 0.0, 'code_region_27': 0.0, 'vecteur_energie_Fioul': 0.0, 'consommation_relative_climat': 0.1337153828108499}\n",
      "{'_sa_instance_state': <sqlalchemy.orm.state.InstanceState object at 0x0000024BF5FE3BF0>, 'annee_consommation_Année de référence': 0.0, 'zone_climatique_H2c': 0.0, 'code_region_02': 0.0, 'code_region_28': 0.0, 'code_region_93': 0.0, 'vecteur_energie_Gaz': 1.0, 'surface_par_declaration': 0.8290536361746506, 'zone_climatique_GUA': 0.0, 'zone_climatique_H2d': 0.0, 'code_region_03': 0.0, 'code_region_32': 0.0, 'code_region_94': 0.0, 'vecteur_energie_Non spécifié': 0.0, 'consommation_log': 0.3999440781530191, 'nombre_declaration': -0.0574533933993358, 'zone_climatique_GUY': 0.0, 'zone_climatique_H3': 0.0, 'code_region_04': 0.0, 'code_region_44': 0.0, 'code_region_ND': 0.0, 'vecteur_energie_Reseau de chaleur': 0.0, 'consommation_declaree': 6370788.0, 'zone_climatique_H1a': 0.0, 'zone_climatique_MAR': 0.0, 'code_region_06': 0.0, 'code_region_52': 0.0, 'code_departement_encoded': 0.5018287010373423, 'vecteur_energie_Reseau de froid': 0.0, 'consommation_anormale_Anormale': 1.0, 'surface_declaree': 0.0006971996797802, 'zone_climatique_H1b': 0.0, 'zone_climatique_MAY': 0.0, 'code_region_53': 0.0, 'code_region_75': 0.0, 'commune_frequency': 0.0080321285140562, 'annee_consommation_reference': 1.0, 'consommation_anormale_Normale': 0.0, 'id': 21103, 'annee_consommation_2020': 0.0, 'zone_climatique_H1c': 1.0, 'zone_climatique_REU': 0.0, 'code_region_11': 0.0, 'code_region_76': 0.0, 'vecteur_energie_Bois': 0.0, 'densite_energetique': 0.0762570079397892, 'annee_consommation_2021': 0.0, 'zone_climatique_H2a': 0.0, 'code_region_00': 0.0, 'code_region_24': 0.0, 'code_region_84': 1.0, 'vecteur_energie_Electricite': 0.0, 'ratio_declaration_consommation': 0.9663653033528988, 'annee_consommation_2022': 1.0, 'zone_climatique_H2b': 0.0, 'code_region_01': 0.0, 'code_region_27': 0.0, 'vecteur_energie_Fioul': 0.0, 'consommation_relative_climat': 0.1764513223432307}\n",
      "{'_sa_instance_state': <sqlalchemy.orm.state.InstanceState object at 0x0000024BF5FE3C50>, 'annee_consommation_Année de référence': 1.0, 'zone_climatique_H2c': 0.0, 'code_region_02': 0.0, 'code_region_28': 0.0, 'code_region_93': 0.0, 'vecteur_energie_Gaz': 0.0, 'surface_par_declaration': 0.8290588682437986, 'zone_climatique_GUA': 0.0, 'zone_climatique_H2d': 0.0, 'code_region_03': 0.0, 'code_region_32': 0.0, 'code_region_94': 0.0, 'vecteur_energie_Non spécifié': 0.0, 'consommation_log': 0.7692352132615112, 'nombre_declaration': 0.3893059734498814, 'zone_climatique_GUY': 0.0, 'zone_climatique_H3': 0.0, 'code_region_04': 0.0, 'code_region_44': 0.0, 'code_region_ND': 0.0, 'vecteur_energie_Reseau de chaleur': 0.0, 'consommation_declaree': 10034435.0, 'zone_climatique_H1a': 0.0, 'zone_climatique_MAR': 0.0, 'code_region_06': 0.0, 'code_region_52': 0.0, 'code_departement_encoded': 1.3780770878628563, 'vecteur_energie_Reseau de froid': 0.0, 'consommation_anormale_Anormale': 1.0, 'surface_declaree': 0.0005571562381554, 'zone_climatique_H1b': 0.0, 'zone_climatique_MAY': 0.0, 'code_region_53': 0.0, 'code_region_75': 0.0, 'commune_frequency': 0.0120481927710843, 'annee_consommation_reference': 0.0, 'consommation_anormale_Normale': 0.0, 'id': 21387, 'annee_consommation_2020': 0.0, 'zone_climatique_H1c': 1.0, 'zone_climatique_REU': 0.0, 'code_region_11': 0.0, 'code_region_76': 0.0, 'vecteur_energie_Bois': 0.0, 'densite_energetique': 0.1056024113042841, 'annee_consommation_2021': 0.0, 'zone_climatique_H2a': 0.0, 'code_region_00': 0.0, 'code_region_24': 0.0, 'code_region_84': 1.0, 'vecteur_energie_Electricite': 1.0, 'ratio_declaration_consommation': 0.9730734099772684, 'annee_consommation_2022': 0.0, 'zone_climatique_H2b': 0.0, 'code_region_01': 0.0, 'code_region_27': 0.0, 'vecteur_energie_Fioul': 0.0, 'consommation_relative_climat': 0.107820104801455}\n",
      "{'_sa_instance_state': <sqlalchemy.orm.state.InstanceState object at 0x0000024BF5FE3CB0>, 'annee_consommation_Année de référence': 0.0, 'zone_climatique_H2c': 0.0, 'code_region_02': 0.0, 'code_region_28': 0.0, 'code_region_93': 0.0, 'vecteur_energie_Gaz': 0.0, 'surface_par_declaration': 0.8290578687537882, 'zone_climatique_GUA': 0.0, 'zone_climatique_H2d': 0.0, 'code_region_03': 0.0, 'code_region_32': 0.0, 'code_region_94': 0.0, 'vecteur_energie_Non spécifié': 0.0, 'consommation_log': 0.4573879862458163, 'nombre_declaration': -0.6159026019608574, 'zone_climatique_GUY': 0.0, 'zone_climatique_H3': 0.0, 'code_region_04': 0.0, 'code_region_44': 0.0, 'code_region_ND': 0.0, 'vecteur_energie_Reseau de chaleur': 0.0, 'consommation_declaree': 6837282.0, 'zone_climatique_H1a': 0.0, 'zone_climatique_MAR': 0.0, 'code_region_06': 0.0, 'code_region_52': 0.0, 'code_departement_encoded': -0.0469903128168222, 'vecteur_energie_Reseau de froid': 0.0, 'consommation_anormale_Anormale': 1.0, 'surface_declaree': 0.0007147051099833, 'zone_climatique_H1b': 0.0, 'zone_climatique_MAY': 0.0, 'code_region_53': 0.0, 'code_region_75': 0.0, 'commune_frequency': 0.0120481927710843, 'annee_consommation_reference': 1.0, 'consommation_anormale_Normale': 0.0, 'id': 23593, 'annee_consommation_2020': 0.0, 'zone_climatique_H1c': 1.0, 'zone_climatique_REU': 0.0, 'code_region_11': 0.0, 'code_region_76': 0.0, 'vecteur_energie_Bois': 0.0, 'densite_energetique': 0.0776755805219522, 'annee_consommation_2021': 0.0, 'zone_climatique_H2a': 0.0, 'code_region_00': 0.0, 'code_region_24': 0.0, 'code_region_84': 1.0, 'vecteur_energie_Electricite': 1.0, 'ratio_declaration_consommation': 0.97126330818329, 'annee_consommation_2022': 1.0, 'zone_climatique_H2b': 0.0, 'code_region_01': 0.0, 'code_region_27': 0.0, 'vecteur_energie_Fioul': 0.0, 'consommation_relative_climat': 0.1894036953414976}\n",
      "{'_sa_instance_state': <sqlalchemy.orm.state.InstanceState object at 0x0000024BF5FE3D10>, 'annee_consommation_Année de référence': 0.0, 'zone_climatique_H2c': 1.0, 'code_region_02': 0.0, 'code_region_28': 0.0, 'code_region_93': 0.0, 'vecteur_energie_Gaz': 1.0, 'surface_par_declaration': 0.8290590568283005, 'zone_climatique_GUA': 0.0, 'zone_climatique_H2d': 0.0, 'code_region_03': 0.0, 'code_region_32': 0.0, 'code_region_94': 0.0, 'vecteur_energie_Non spécifié': 0.0, 'consommation_log': 0.1751467106319863, 'nombre_declaration': 0.4451508943060336, 'zone_climatique_GUY': 0.0, 'zone_climatique_H3': 0.0, 'code_region_04': 0.0, 'code_region_44': 0.0, 'code_region_ND': 0.0, 'vecteur_energie_Reseau de chaleur': 0.0, 'consommation_declaree': 4831606.0, 'zone_climatique_H1a': 0.0, 'zone_climatique_MAR': 0.0, 'code_region_06': 0.0, 'code_region_52': 0.0, 'code_departement_encoded': -0.3439076392503387, 'vecteur_energie_Reseau de froid': 0.0, 'consommation_anormale_Anormale': 1.0, 'surface_declaree': 0.0008547485516082, 'zone_climatique_H1b': 0.0, 'zone_climatique_MAY': 0.0, 'code_region_53': 0.0, 'code_region_75': 1.0, 'commune_frequency': 0.0100401606425702, 'annee_consommation_reference': 1.0, 'consommation_anormale_Normale': 0.0, 'id': 24881, 'annee_consommation_2020': 0.0, 'zone_climatique_H1c': 0.0, 'zone_climatique_REU': 0.0, 'code_region_11': 0.0, 'code_region_76': 0.0, 'vecteur_energie_Bois': 0.0, 'densite_energetique': 0.064730352022636, 'annee_consommation_2021': 0.0, 'zone_climatique_H2a': 0.0, 'code_region_00': 0.0, 'code_region_24': 0.0, 'code_region_84': 0.0, 'vecteur_energie_Electricite': 0.0, 'ratio_declaration_consommation': 0.9723409875702193, 'annee_consommation_2022': 1.0, 'zone_climatique_H2b': 0.0, 'code_region_01': 0.0, 'code_region_27': 0.0, 'vecteur_energie_Fioul': 0.0, 'consommation_relative_climat': 0.1337153828108499}\n"
     ]
    }
   ],
   "source": [
    "def inspect_anomalous_rows(session, table_class):\n",
    "    \"\"\"Inspecter les lignes identifiées comme anormales.\"\"\"\n",
    "    query = session.query(table_class).filter(table_class.consommation_anormale_Anormale == 1)\n",
    "    anomalous_rows = query.all()\n",
    "    return anomalous_rows\n",
    "\n",
    "# Exemple d'exécution pour TrainData\n",
    "anomalous_rows_train = inspect_anomalous_rows(session_energy, TrainData)\n",
    "print(\"Lignes anormales dans TrainData :\", len(anomalous_rows_train))\n",
    "for row in anomalous_rows_train:\n",
    "    print(row.__dict__)"
   ]
  },
  {
   "cell_type": "code",
   "execution_count": 10,
   "metadata": {},
   "outputs": [
    {
     "name": "stdout",
     "output_type": "stream",
     "text": [
      "Distribution dynamique par zones climatiques dans TrainData : {'zone_climatique_GUA': 31.0, 'zone_climatique_GUY': 15.0, 'zone_climatique_H1a': 6327.0, 'zone_climatique_H1b': 3031.0, 'zone_climatique_H1c': 4859.0, 'zone_climatique_H2a': 1971.0, 'zone_climatique_H2b': 3404.0, 'zone_climatique_H2c': 2811.0, 'zone_climatique_H2d': 673.0, 'zone_climatique_H3': 1903.0, 'zone_climatique_MAR': 21.0, 'zone_climatique_MAY': 9.0, 'zone_climatique_REU': 47.0}\n"
     ]
    }
   ],
   "source": [
    "from sqlalchemy.sql import func\n",
    "\n",
    "def get_zone_climatique_columns(table_class):\n",
    "    \"\"\"Récupère dynamiquement toutes les colonnes liées aux zones climatiques.\"\"\"\n",
    "    inspector = inspect(table_class)\n",
    "    return [column.name for column in inspector.columns if column.name.startswith(\"zone_climatique_\")]\n",
    "\n",
    "def get_zone_climatique_distribution_dynamic(session, table_class):\n",
    "    \"\"\"Calcule la distribution pour toutes les zones climatiques de manière dynamique.\"\"\"\n",
    "    zone_columns = get_zone_climatique_columns(table_class)\n",
    "    query = session.query(\n",
    "        *[func.sum(getattr(table_class, col)).label(col) for col in zone_columns]\n",
    "    )\n",
    "    return query.one(), zone_columns\n",
    "\n",
    "# Exemple d'exécution pour TrainData\n",
    "zone_distribution_train, zone_columns_train = get_zone_climatique_distribution_dynamic(session_energy, TrainData)\n",
    "zone_distribution_train = dict(zip(zone_columns_train, zone_distribution_train))\n",
    "print(\"Distribution dynamique par zones climatiques dans TrainData :\", zone_distribution_train)"
   ]
  },
  {
   "cell_type": "code",
   "execution_count": 16,
   "metadata": {},
   "outputs": [
    {
     "name": "stdout",
     "output_type": "stream",
     "text": [
      "Distribution dynamique par vecteurs energetiques dans TrainData : {'vecteur_energie_Bois': 98.0, 'vecteur_energie_Electricite': 12773.0, 'vecteur_energie_Fioul': 829.0, 'vecteur_energie_Gaz': 9032.0, 'vecteur_energie_Non spécifié': 1819.0, 'vecteur_energie_Reseau de chaleur': 541.0, 'vecteur_energie_Reseau de froid': 10.0}\n"
     ]
    }
   ],
   "source": [
    "from sqlalchemy.sql import func\n",
    "\n",
    "def get_vecteur_energetique_columns(table_class):\n",
    "    \"\"\"Récupère dynamiquement toutes les colonnes liées aux vecteurs energetiques.\"\"\"\n",
    "    inspector = inspect(table_class)\n",
    "    return [column.name for column in inspector.columns if column.name.startswith(\"vecteur_energie_\")]\n",
    "\n",
    "def get_vecteur_energetique_distribution_dynamic(session, table_class):\n",
    "    \"\"\"Calcule la distribution pour toutes les vecteurs energetiques de manière dynamique.\"\"\"\n",
    "    vecteur_columns = get_vecteur_energetique_columns(table_class)\n",
    "    query = session.query(\n",
    "        *[func.sum(getattr(table_class, col)).label(col) for col in vecteur_columns]\n",
    "    )\n",
    "    return query.one(), vecteur_columns\n",
    "\n",
    "# Exemple d'exécution pour TrainData\n",
    "vecteur_distribution_train, vecteur_columns_train = get_vecteur_energetique_distribution_dynamic(session_energy, TrainData)\n",
    "vecteur_distribution_train = dict(zip(vecteur_columns_train, vecteur_distribution_train))\n",
    "print(\"Distribution dynamique par vecteurs energetiques dans TrainData :\", vecteur_distribution_train)"
   ]
  },
  {
   "cell_type": "code",
   "execution_count": 14,
   "metadata": {},
   "outputs": [
    {
     "name": "stdout",
     "output_type": "stream",
     "text": [
      "Outliers dans TrainData :           id  nombre_declaration  surface_declaree  annee_consommation_2020  \\\n",
      "13        14            1.673739          0.845264                      1.0   \n",
      "116      117            7.481611          4.372468                      0.0   \n",
      "125      126            3.963381          3.154546                      1.0   \n",
      "230      231            3.963381          3.012857                      0.0   \n",
      "243      244            2.511413          2.662800                      0.0   \n",
      "...      ...                 ...               ...                      ...   \n",
      "24790  24791            2.790638          2.116368                      0.0   \n",
      "24793  24794            3.460777          3.928548                      1.0   \n",
      "24888  24889            4.856900          1.978426                      0.0   \n",
      "24900  24901            2.176343          2.250197                      1.0   \n",
      "24970  24971            3.460777          3.928548                      1.0   \n",
      "\n",
      "       annee_consommation_2021  annee_consommation_2022  \\\n",
      "13                         0.0                      0.0   \n",
      "116                        0.0                      1.0   \n",
      "125                        0.0                      0.0   \n",
      "230                        0.0                      0.0   \n",
      "243                        1.0                      0.0   \n",
      "...                        ...                      ...   \n",
      "24790                      0.0                      0.0   \n",
      "24793                      0.0                      0.0   \n",
      "24888                      1.0                      0.0   \n",
      "24900                      0.0                      0.0   \n",
      "24970                      0.0                      0.0   \n",
      "\n",
      "       annee_consommation_Année de référence  zone_climatique_GUA  \\\n",
      "13                                       0.0                  0.0   \n",
      "116                                      0.0                  0.0   \n",
      "125                                      0.0                  0.0   \n",
      "230                                      1.0                  0.0   \n",
      "243                                      0.0                  0.0   \n",
      "...                                      ...                  ...   \n",
      "24790                                    1.0                  0.0   \n",
      "24793                                    0.0                  0.0   \n",
      "24888                                    0.0                  0.0   \n",
      "24900                                    0.0                  0.0   \n",
      "24970                                    0.0                  0.0   \n",
      "\n",
      "       zone_climatique_GUY  zone_climatique_H1a  ...  \\\n",
      "13                     0.0                  1.0  ...   \n",
      "116                    0.0                  0.0  ...   \n",
      "125                    0.0                  0.0  ...   \n",
      "230                    0.0                  0.0  ...   \n",
      "243                    0.0                  1.0  ...   \n",
      "...                    ...                  ...  ...   \n",
      "24790                  0.0                  1.0  ...   \n",
      "24793                  0.0                  1.0  ...   \n",
      "24888                  0.0                  0.0  ...   \n",
      "24900                  0.0                  1.0  ...   \n",
      "24970                  0.0                  1.0  ...   \n",
      "\n",
      "       vecteur_energie_Reseau de froid  annee_consommation_reference  \\\n",
      "13                                 0.0                           1.0   \n",
      "116                                0.0                           1.0   \n",
      "125                                0.0                           1.0   \n",
      "230                                0.0                           0.0   \n",
      "243                                0.0                           1.0   \n",
      "...                                ...                           ...   \n",
      "24790                              0.0                           0.0   \n",
      "24793                              0.0                           1.0   \n",
      "24888                              0.0                           1.0   \n",
      "24900                              0.0                           1.0   \n",
      "24970                              0.0                           1.0   \n",
      "\n",
      "       densite_energetique  ratio_declaration_consommation  \\\n",
      "13                0.046175                        0.972865   \n",
      "116               0.046060                        0.972030   \n",
      "125               0.046071                        0.972242   \n",
      "230               0.046070                        0.972207   \n",
      "243               0.046074                        0.972441   \n",
      "...                    ...                             ...   \n",
      "24790             0.046088                        0.972415   \n",
      "24793             0.046062                        0.972278   \n",
      "24888             0.046086                        0.972124   \n",
      "24900             0.046081                        0.972528   \n",
      "24970             0.046062                        0.972278   \n",
      "\n",
      "       consommation_relative_climat  surface_par_declaration  \\\n",
      "13                         1.000000                 0.829253   \n",
      "116                        0.939875                 0.829284   \n",
      "125                        0.972341                 0.829365   \n",
      "230                        0.107820                 0.829351   \n",
      "243                        0.898642                 0.829467   \n",
      "...                             ...                      ...   \n",
      "24790                      0.107820                 0.829351   \n",
      "24793                      0.920114                 0.829496   \n",
      "24888                      0.866901                 0.829215   \n",
      "24900                      0.885869                 0.829457   \n",
      "24970                      0.920114                 0.829496   \n",
      "\n",
      "       consommation_log  consommation_declaree  \\\n",
      "13             1.808405             36031802.0   \n",
      "116            1.758022             33866318.0   \n",
      "125            1.785614             35035623.0   \n",
      "230            1.716309             32172314.0   \n",
      "243            1.721572             32381293.0   \n",
      "...                 ...                    ...   \n",
      "24790          1.773277             34507888.0   \n",
      "24793          1.740757             33154625.0   \n",
      "24888          1.692355             31238085.0   \n",
      "24900          1.709941             31921258.0   \n",
      "24970          1.740757             33154625.0   \n",
      "\n",
      "       consommation_anormale_Anormale  consommation_anormale_Normale  \n",
      "13                                0.0                            1.0  \n",
      "116                               0.0                            1.0  \n",
      "125                               0.0                            1.0  \n",
      "230                               0.0                            1.0  \n",
      "243                               0.0                            1.0  \n",
      "...                               ...                            ...  \n",
      "24790                             0.0                            1.0  \n",
      "24793                             0.0                            1.0  \n",
      "24888                             0.0                            1.0  \n",
      "24900                             0.0                            1.0  \n",
      "24970                             0.0                            1.0  \n",
      "\n",
      "[547 rows x 58 columns]\n"
     ]
    }
   ],
   "source": [
    "import pandas as pd\n",
    "\n",
    "def detect_outliers(session, table_class, column_name, threshold=3):\n",
    "    \"\"\"Détecter les outliers basés sur un z-score simple.\"\"\"\n",
    "    data = pd.read_sql(session.query(table_class).statement, session.bind)\n",
    "    mean = data[column_name].mean()\n",
    "    std = data[column_name].std()\n",
    "    outliers = data[(data[column_name] < mean - threshold * std) | (data[column_name] > mean + threshold * std)]\n",
    "    return outliers\n",
    "\n",
    "# Exemple d'exécution pour TrainData\n",
    "outliers_train = detect_outliers(session_energy, TrainData, \"consommation_declaree\")\n",
    "print(\"Outliers dans TrainData :\", outliers_train)"
   ]
  },
  {
   "cell_type": "code",
   "execution_count": 15,
   "metadata": {},
   "outputs": [
    {
     "data": {
      "image/png": "[encoded data removed]",
      "text/plain": [
       "<Figure size 640x480 with 1 Axes>"
      ]
     },
     "metadata": {},
     "output_type": "display_data"
    }
   ],
   "source": [
    "import matplotlib.pyplot as plt\n",
    "import seaborn as sns\n",
    "\n",
    "def plot_distribution(session, table_class, column_name):\n",
    "    \"\"\"Tracer la distribution d'une colonne spécifique.\"\"\"\n",
    "    data = pd.read_sql(session.query(table_class).statement, session.bind)\n",
    "    sns.histplot(data[column_name], kde=True)\n",
    "    plt.title(f\"Distribution de {column_name}\")\n",
    "    plt.xlabel(column_name)\n",
    "    plt.ylabel(\"Fréquence\")\n",
    "    plt.show()\n",
    "\n",
    "# Exemple d'exécution pour consommation_declaree\n",
    "plot_distribution(session_energy, TrainData, \"consommation_declaree\")"
   ]
  },
  {
   "cell_type": "markdown",
   "metadata": {},
   "source": [
    "# Récupération des données de la DB en dataframes pour les modèles d'IA"
   ]
  },
  {
   "cell_type": "code",
   "execution_count": null,
   "metadata": {},
   "outputs": [
    {
     "name": "stderr",
     "output_type": "stream",
     "text": [
      "C:\\Users\\aboys\\AppData\\Local\\Temp\\ipykernel_3920\\2690717371.py:11: SADeprecationWarning: The AutomapBase.prepare.reflect parameter is deprecated and will be removed in a future release.  Reflection is enabled when AutomapBase.prepare.autoload_with is passed.\n",
      "  Base.prepare(engine_energy, reflect=True)\n"
     ]
    },
    {
     "name": "stdout",
     "output_type": "stream",
     "text": [
      "   id  nombre_declaration  surface_declaree  annee_consommation_2020  \\\n",
      "0   1           -0.448368         -0.236886                      0.0   \n",
      "1   2           -0.336678          0.500740                      0.0   \n",
      "2   3           -0.504213         -0.126760                      0.0   \n",
      "3   4           -0.671748         -0.723467                      0.0   \n",
      "4   5            1.003600          0.100618                      0.0   \n",
      "\n",
      "   annee_consommation_2021  annee_consommation_2022  \\\n",
      "0                      0.0                      0.0   \n",
      "1                      1.0                      0.0   \n",
      "2                      0.0                      0.0   \n",
      "3                      1.0                      0.0   \n",
      "4                      0.0                      1.0   \n",
      "\n",
      "   annee_consommation_Année de référence  zone_climatique_GUA  \\\n",
      "0                                    1.0                  0.0   \n",
      "1                                    0.0                  0.0   \n",
      "2                                    1.0                  0.0   \n",
      "3                                    0.0                  0.0   \n",
      "4                                    0.0                  0.0   \n",
      "\n",
      "   zone_climatique_GUY  zone_climatique_H1a  ...  \\\n",
      "0                  0.0                  0.0  ...   \n",
      "1                  0.0                  1.0  ...   \n",
      "2                  0.0                  0.0  ...   \n",
      "3                  0.0                  0.0  ...   \n",
      "4                  0.0                  0.0  ...   \n",
      "\n",
      "   vecteur_energie_Reseau de froid  annee_consommation_reference  \\\n",
      "0                              0.0                           0.0   \n",
      "1                              0.0                           1.0   \n",
      "2                              0.0                           0.0   \n",
      "3                              0.0                           1.0   \n",
      "4                              0.0                           1.0   \n",
      "\n",
      "   densite_energetique  ratio_declaration_consommation  \\\n",
      "0             0.045942                        0.971085   \n",
      "1             0.046091                        0.970555   \n",
      "2             0.045889                        0.971267   \n",
      "3             0.046030                        0.971736   \n",
      "4             0.046304                        0.972209   \n",
      "\n",
      "   consommation_relative_climat  surface_par_declaration  consommation_log  \\\n",
      "0                      0.107820                 0.829262          0.429311   \n",
      "1                      0.238314                 0.828485          0.643729   \n",
      "2                      0.107820                 0.829155          0.289327   \n",
      "3                      0.027058                 0.829474         -1.113271   \n",
      "4                      0.227119                 0.829097          0.604692   \n",
      "\n",
      "   consommation_declaree  consommation_anormale_Anormale  \\\n",
      "0              6605153.0                             0.0   \n",
      "1              8598824.0                             0.0   \n",
      "2              5560247.0                             0.0   \n",
      "3               990224.0                             0.0   \n",
      "4              8195645.0                             0.0   \n",
      "\n",
      "   consommation_anormale_Normale  \n",
      "0                            1.0  \n",
      "1                            1.0  \n",
      "2                            1.0  \n",
      "3                            1.0  \n",
      "4                            1.0  \n",
      "\n",
      "[5 rows x 58 columns]\n",
      "   id  nombre_declaration  surface_declaree  annee_consommation_2020  \\\n",
      "0   1            0.221771          0.162027                      0.0   \n",
      "1   2           -0.727592         -0.849699                      0.0   \n",
      "2   3            0.445151         -0.201053                      1.0   \n",
      "3   4           -0.560058         -0.692220                      0.0   \n",
      "4   5           -0.504213         -0.617595                      1.0   \n",
      "\n",
      "   annee_consommation_2021  annee_consommation_2022  \\\n",
      "0                      0.0                      1.0   \n",
      "1                      1.0                      0.0   \n",
      "2                      0.0                      0.0   \n",
      "3                      1.0                      0.0   \n",
      "4                      0.0                      0.0   \n",
      "\n",
      "   annee_consommation_Année de référence  zone_climatique_GUA  \\\n",
      "0                                    0.0                  0.0   \n",
      "1                                    0.0                  0.0   \n",
      "2                                    0.0                  0.0   \n",
      "3                                    0.0                  0.0   \n",
      "4                                    0.0                  0.0   \n",
      "\n",
      "   zone_climatique_GUY  zone_climatique_H1a  ...  \\\n",
      "0                  0.0                  1.0  ...   \n",
      "1                  0.0                  0.0  ...   \n",
      "2                  0.0                  1.0  ...   \n",
      "3                  0.0                  1.0  ...   \n",
      "4                  0.0                  0.0  ...   \n",
      "\n",
      "   vecteur_energie_Reseau de froid  annee_consommation_reference  \\\n",
      "0                              0.0                           1.0   \n",
      "1                              0.0                           1.0   \n",
      "2                              0.0                           1.0   \n",
      "3                              0.0                           1.0   \n",
      "4                              0.0                           1.0   \n",
      "\n",
      "   densite_energetique  ratio_declaration_consommation  \\\n",
      "0             0.046257                        0.974218   \n",
      "1             0.046034                        0.971799   \n",
      "2             0.045943                        0.972420   \n",
      "3             0.046026                        0.971656   \n",
      "4             0.046030                        0.971725   \n",
      "\n",
      "   consommation_relative_climat  surface_par_declaration  consommation_log  \\\n",
      "0                      0.301909                 0.829340          0.835694   \n",
      "1                      0.003168                 0.829509         -2.765093   \n",
      "2                      0.153724                 0.828884          0.288156   \n",
      "3                      0.047919                 0.829535         -0.654318   \n",
      "4                      0.023266                 0.829531         -1.233898   \n",
      "\n",
      "   consommation_declaree  consommation_anormale_Anormale  \\\n",
      "0             10889289.0                             0.0   \n",
      "1               129783.0                             0.0   \n",
      "2              5552244.0                             0.0   \n",
      "3              1741552.0                             0.0   \n",
      "4               853663.0                             0.0   \n",
      "\n",
      "   consommation_anormale_Normale  \n",
      "0                            1.0  \n",
      "1                            1.0  \n",
      "2                            1.0  \n",
      "3                            1.0  \n",
      "4                            1.0  \n",
      "\n",
      "[5 rows x 58 columns]\n"
     ]
    }
   ],
   "source": [
    "import pandas as pd\n",
    "from sqlalchemy.orm import sessionmaker\n",
    "from sqlalchemy import create_engine\n",
    "from sqlalchemy.ext.automap import automap_base\n",
    "\n",
    "# Connexion à la base de données\n",
    "engine_energy = create_engine(\"sqlite:///energy_consumption.db\")\n",
    "\n",
    "# Automap Base pour charger les tables existantes\n",
    "Base = automap_base()\n",
    "Base.prepare(engine_energy, reflect=True)\n",
    "\n",
    "# Accéder aux classes générées dynamiquement\n",
    "TrainData = Base.classes.train_data\n",
    "TestData = Base.classes.test_data\n",
    "\n",
    "# Création de la session pour la base\n",
    "SessionEnergy = sessionmaker(bind=engine_energy)\n",
    "session_energy = SessionEnergy()  # Instanciation correcte de la session\n",
    "\n",
    "# Requêtes pour les tables\n",
    "query_train = session_energy.query(TrainData)\n",
    "query_test = session_energy.query(TestData)\n",
    "\n",
    "# Chargement des données dans des DataFrames pandas\n",
    "df_train_data = pd.read_sql(query_train.statement, session_energy.bind)\n",
    "df_test_data = pd.read_sql(query_test.statement, session_energy.bind)\n",
    "\n",
    "# Affichage des premières lignes des DataFrames\n",
    "print(df_train_data.head())\n",
    "print(df_test_data.head())"
   ]
  }
 ],
 "metadata": {
  "kernelspec": {
   "display_name": "__venv",
   "language": "python",
   "name": "python3"
  },
  "language_info": {
   "codemirror_mode": {
    "name": "ipython",
    "version": 3
   },
   "file_extension": ".py",
   "mimetype": "text/x-python",
   "name": "python",
   "nbconvert_exporter": "python",
   "pygments_lexer": "ipython3",
   "version": "3.12.4"
  }
 },
 "nbformat": 4,
 "nbformat_minor": 2
}
