{
 "cells": [
  {
   "cell_type": "code",
   "execution_count": 45,
   "metadata": {},
   "outputs": [
    {
     "name": "stdout",
     "output_type": "stream",
     "text": [
      "Table: commune\n",
      "   id_commune   nom_commune  id_departement\n",
      "0           1  BAIE MAHAULT               1\n",
      "1           2       BAILLIF               1\n",
      "2           3   BASSE TERRE               1\n",
      "3           4    LES ABYMES               1\n",
      "4           5   PETIT BOURG               1 \n",
      "\n",
      "Table: consommation\n",
      "   id_consommation  annee_consommation  surface_declaree  nombre_declaration  \\\n",
      "0                1  Année de référence            205643                  86   \n",
      "1                2  Année de référence              8815                   7   \n",
      "2                3  Année de référence              4024                   4   \n",
      "3                4  Année de référence             88040                  34   \n",
      "4                5  Année de référence             14890                  13   \n",
      "\n",
      "   consommation_declaree  densite_energetique  ratio_declaration_consommation  \\\n",
      "0               38442621           186.938632                   447007.220930   \n",
      "1                1287317           146.037096                   183902.428571   \n",
      "2                 699468           173.824056                   174867.000000   \n",
      "3               20281219           230.363687                   596506.441176   \n",
      "4                1302881            87.500403                   100221.615385   \n",
      "\n",
      "   consommation_log consommation_etat  id_zone_climatique  id_vecteur_energie  \\\n",
      "0         17.464677           Normale                   1                   1   \n",
      "1         14.068072           Normale                   1                   1   \n",
      "2         13.458077           Normale                   1                   1   \n",
      "3         16.825206           Normale                   1                   1   \n",
      "4         14.080089           Normale                   1                   1   \n",
      "\n",
      "   id_commune  \n",
      "0           1  \n",
      "1           2  \n",
      "2           3  \n",
      "3           4  \n",
      "4           5   \n",
      "\n",
      "Table: departement\n",
      "   id_departement nom_departement  id_region\n",
      "0               1      Guadeloupe          1\n",
      "1               2          Guyane          2\n",
      "2               3  Seine-et-Marne          3\n",
      "3               4        Yvelines          3\n",
      "4               5         Essonne          3 \n",
      "\n",
      "Table: region\n",
      "   id_region       nom_region\n",
      "0          1       Guadeloupe\n",
      "1          2           Guyane\n",
      "2          3    Île-de-France\n",
      "3          4        Normandie\n",
      "4          5  Hauts-de-France \n",
      "\n",
      "Table: vecteur_energie\n",
      "   id_vecteur_energie vecteur_energie\n",
      "0                   1     Electricite\n",
      "1                   2         Inconnu\n",
      "2                   3             Gaz\n",
      "3                   4           Fioul \n",
      "\n",
      "Table: zone_climatique\n",
      "   id_zone_climatique zone_climatique\n",
      "0                   1             GUA\n",
      "1                   2             GUY\n",
      "2                   3             H1a\n",
      "3                   4             H1b\n",
      "4                   5             H1c \n",
      "\n",
      "   id_consommation  annee_consommation  surface_declaree  nombre_declaration  \\\n",
      "0                1  Année de référence            205643                  86   \n",
      "1                2  Année de référence              8815                   7   \n",
      "2                3  Année de référence              4024                   4   \n",
      "3                4  Année de référence             88040                  34   \n",
      "4                5  Année de référence             14890                  13   \n",
      "\n",
      "   consommation_declaree  densite_energetique  ratio_declaration_consommation  \\\n",
      "0               38442621           186.938632                   447007.220930   \n",
      "1                1287317           146.037096                   183902.428571   \n",
      "2                 699468           173.824056                   174867.000000   \n",
      "3               20281219           230.363687                   596506.441176   \n",
      "4                1302881            87.500403                   100221.615385   \n",
      "\n",
      "   consommation_log consommation_etat  id_zone_climatique  id_vecteur_energie  \\\n",
      "0         17.464677           Normale                   1                   1   \n",
      "1         14.068072           Normale                   1                   1   \n",
      "2         13.458077           Normale                   1                   1   \n",
      "3         16.825206           Normale                   1                   1   \n",
      "4         14.080089           Normale                   1                   1   \n",
      "\n",
      "   id_commune   nom_commune  id_departement nom_departement  id_region  \\\n",
      "0           1  BAIE MAHAULT               1      Guadeloupe          1   \n",
      "1           2       BAILLIF               1      Guadeloupe          1   \n",
      "2           3   BASSE TERRE               1      Guadeloupe          1   \n",
      "3           4    LES ABYMES               1      Guadeloupe          1   \n",
      "4           5   PETIT BOURG               1      Guadeloupe          1   \n",
      "\n",
      "   nom_region zone_climatique vecteur_energie  \n",
      "0  Guadeloupe             GUA     Electricite  \n",
      "1  Guadeloupe             GUA     Electricite  \n",
      "2  Guadeloupe             GUA     Electricite  \n",
      "3  Guadeloupe             GUA     Electricite  \n",
      "4  Guadeloupe             GUA     Electricite  \n"
     ]
    }
   ],
   "source": [
    "import pandas as pd\n",
    "from sqlalchemy import create_engine, inspect\n",
    "\n",
    "# Connexion à la base SQLite\n",
    "DATABASE_URL = \"sqlite:///energy_consumption.db\"\n",
    "engine = create_engine(DATABASE_URL)\n",
    "\n",
    "# Inspecter la base pour récupérer les noms des tables\n",
    "inspector = inspect(engine)\n",
    "tables = inspector.get_table_names()\n",
    "\n",
    "# Charger toutes les tables en un seul appel\n",
    "df = {table: pd.read_sql_table(table, engine) for table in tables}\n",
    "\n",
    "# Vérifier les premières lignes de chaque table (optionnel)\n",
    "for table_name, dataframe in df.items():\n",
    "    print(f\"Table: {table_name}\")\n",
    "    print(dataframe.head(), \"\\n\")\n",
    "\n",
    "# Fusionner automatiquement les tables en fonction des relations définies\n",
    "df_complete = df[\"consommation\"] \\\n",
    "    .merge(df[\"commune\"], on=\"id_commune\", how=\"left\") \\\n",
    "    .merge(df[\"departement\"], on=\"id_departement\", how=\"left\") \\\n",
    "    .merge(df[\"region\"], on=\"id_region\", how=\"left\") \\\n",
    "    .merge(df[\"zone_climatique\"], on=\"id_zone_climatique\", how=\"left\") \\\n",
    "    .merge(df[\"vecteur_energie\"], on=\"id_vecteur_energie\", how=\"left\")\n",
    "\n",
    "# Afficher les premières lignes du DataFrame final\n",
    "print(df_complete.head())"
   ]
  },
  {
   "cell_type": "code",
   "execution_count": 46,
   "metadata": {},
   "outputs": [],
   "source": [
    "df_complete.to_csv(\"df_models.csv\", index=\"False\")"
   ]
  },
  {
   "cell_type": "code",
   "execution_count": 47,
   "metadata": {},
   "outputs": [
    {
     "name": "stdout",
     "output_type": "stream",
     "text": [
      "X_train:  (719, 11)\n",
      "X_train:       annee_consommation  surface_declaree  nombre_declaration  \\\n",
      "798                2020              5629                   3   \n",
      "536                2021               608                   3   \n",
      "753                2022             52775                  25   \n",
      "390                2021             83050                  35   \n",
      "118  Année de référence              1156                   3   \n",
      "\n",
      "     densite_energetique  ratio_declaration_consommation consommation_etat  \\\n",
      "798           111.391011                   209006.666667           Normale   \n",
      "536            57.233553                    11599.333333           Normale   \n",
      "753            44.475168                    93887.080000           Normale   \n",
      "390           105.567863                   250497.457143           Normale   \n",
      "118            48.611592                    18731.666667           Normale   \n",
      "\n",
      "                nom_commune  nom_departement          nom_region  \\\n",
      "798                 Inconnu           Guyane              Guyane   \n",
      "536          CESSON SEVIGNE  Ille-et-Vilaine            Bretagne   \n",
      "753             SAINT ANDRE       La Réunion          La Réunion   \n",
      "390                 CAYENNE           Guyane              Guyane   \n",
      "118  CABANAC ET VILLAGRAINS          Gironde  Nouvelle-Aquitaine   \n",
      "\n",
      "    zone_climatique vecteur_energie  \n",
      "798             H1b         Inconnu  \n",
      "536              H3     Electricite  \n",
      "753             REU     Electricite  \n",
      "390             GUY     Electricite  \n",
      "118             H2c     Electricite  \n",
      "X_test:  (180, 11)\n",
      "X_test:       annee_consommation  surface_declaree  nombre_declaration  \\\n",
      "332                2020              7134                   3   \n",
      "811                2020              9349                   4   \n",
      "744                2022              4536                   4   \n",
      "244                2020              4124                   5   \n",
      "39   Année de référence             16245                   3   \n",
      "\n",
      "     densite_energetique  ratio_declaration_consommation consommation_etat  \\\n",
      "332           201.201009                       478456.00           Normale   \n",
      "811           294.398010                       688081.75           Normale   \n",
      "744            88.369268                       100210.75           Normale   \n",
      "244           114.419738                        94373.40           Normale   \n",
      "39            234.798523                      1271434.00           Normale   \n",
      "\n",
      "     nom_commune nom_departement               nom_region zone_climatique  \\\n",
      "332         MANE   Haute-Garonne                Occitanie             H2c   \n",
      "811      Inconnu          Guyane                   Guyane             H2b   \n",
      "744  GHISONACCIA     Haute-Corse                    Corse              H3   \n",
      "244      HOUTAUD           Doubs  Bourgogne-Franche-Comté             H1c   \n",
      "39       WIMILLE   Pas-de-Calais          Hauts-de-France             H1a   \n",
      "\n",
      "    vecteur_energie  \n",
      "332         Inconnu  \n",
      "811         Inconnu  \n",
      "744     Electricite  \n",
      "244         Inconnu  \n",
      "39          Inconnu  \n",
      "y_train:  (719,)\n",
      "y_train:  798    13.348735\n",
      "536    10.457344\n",
      "753    14.668724\n",
      "390    15.986552\n",
      "118    10.936601\n",
      "Name: consommation_log, dtype: float64\n",
      "y_test:  (180,)\n",
      "y_test:  332    14.176933\n",
      "811    14.827958\n",
      "744    12.901328\n",
      "244    13.064455\n",
      "39     15.154269\n",
      "Name: consommation_log, dtype: float64\n"
     ]
    }
   ],
   "source": [
    "import pandas as pd\n",
    "from sklearn.model_selection import train_test_split\n",
    "\n",
    "# Charger le df complet\n",
    "df = pd.read_csv(\"df_models.csv\")\n",
    "df = df.loc[:, ~df.columns.str.contains('^Unnamed')]\n",
    "df = df.loc[:, ~df.columns.str.contains('^id_')]\n",
    "\n",
    "# Séparer les features et la cible\n",
    "X = df.drop(columns=[\"consommation_declaree\", \"consommation_log\"])\n",
    "y = df[\"consommation_log\"]\n",
    "\n",
    "# Diviser en ensembles d'entraînement et de test\n",
    "X_train, X_test, y_train, y_test = train_test_split(X, y, test_size=0.2, random_state=42)\n",
    "\n",
    "print(f\"X_train: \", X_train.shape)\n",
    "print(f\"X_train: \", X_train.head())\n",
    "print(f\"X_test: \", X_test.shape)\n",
    "print(f\"X_test: \", X_test.head())\n",
    "print(f\"y_train: \", y_train.shape)\n",
    "print(f\"y_train: \", y_train.head())\n",
    "print(f\"y_test: \", y_test.shape)\n",
    "print(f\"y_test: \", y_test.head())"
   ]
  },
  {
   "cell_type": "code",
   "execution_count": 48,
   "metadata": {},
   "outputs": [
    {
     "data": {
      "image/png": "[encoded data removed]",
      "text/plain": [
       "<Figure size 600x400 with 1 Axes>"
      ]
     },
     "metadata": {},
     "output_type": "display_data"
    },
    {
     "data": {
      "image/png": "[encoded data removed]",
      "text/plain": [
       "<Figure size 600x400 with 1 Axes>"
      ]
     },
     "metadata": {},
     "output_type": "display_data"
    },
    {
     "data": {
      "image/png": "[encoded data removed]",
      "text/plain": [
       "<Figure size 600x400 with 1 Axes>"
      ]
     },
     "metadata": {},
     "output_type": "display_data"
    },
    {
     "data": {
      "image/png": "[encoded data removed]",
      "text/plain": [
       "<Figure size 600x400 with 1 Axes>"
      ]
     },
     "metadata": {},
     "output_type": "display_data"
    }
   ],
   "source": [
    "import matplotlib.pyplot as plt\n",
    "import seaborn as sns\n",
    "\n",
    "# Colonnes numériques à analyser\n",
    "cols_to_analyze = [\"surface_declaree\", \"nombre_declaration\", \"densite_energetique\",\n",
    "                   \"ratio_declaration_consommation\"]\n",
    "\n",
    "# Visualisation\n",
    "for col in cols_to_analyze:\n",
    "    plt.figure(figsize=(6, 4))\n",
    "    sns.histplot(X_train[col], kde=True, bins=30)\n",
    "    plt.title(f\"Distribution de {col}\")\n",
    "    plt.show()"
   ]
  },
  {
   "cell_type": "code",
   "execution_count": 49,
   "metadata": {},
   "outputs": [],
   "source": [
    "# from sklearn.preprocessing import OneHotEncoder, MinMaxScaler\n",
    "# import pandas as pd\n",
    "\n",
    "# # Initialiser les encodeurs et le scaler\n",
    "# ohe = OneHotEncoder(drop=None, sparse_output=False, handle_unknown=\"ignore\")\n",
    "# nrm = MinMaxScaler()\n",
    "\n",
    "# # Définir les colonnes\n",
    "# col_ohe = [\"annee_consommation\", \"consommation_etat\", \"nom_commune\", \"nom_departement\", \"nom_region\", \"zone_climatique\", \"vecteur_energie\"]\n",
    "# col_nrm = [\"surface_declaree\", \"nombre_declaration\", \"densite_energetique\", \"ratio_declaration_consommation\"]\n",
    "\n",
    "# # Application du OneHotEncoding\n",
    "# ohe_train = ohe.fit_transform(X_train[col_ohe])\n",
    "# ohe_test = ohe.transform(X_test[col_ohe])\n",
    "\n",
    "# # Ajouter les colonnes encodées au DataFrame\n",
    "# ohe_columns = ohe.get_feature_names_out(col_ohe)\n",
    "# X_train_encoded = pd.DataFrame(ohe_train, columns=ohe_columns, index=X_train.index)\n",
    "# X_test_encoded = pd.DataFrame(ohe_test, columns=ohe_columns, index=X_test.index)\n",
    "\n",
    "# # Concaténer avec les autres colonnes\n",
    "# X_train = pd.concat([X_train.drop(columns=col_ohe), X_train_encoded], axis=1)\n",
    "# X_test = pd.concat([X_test.drop(columns=col_ohe), X_test_encoded], axis=1)\n",
    "\n",
    "# # Application de la Normalisation MinMaxScaler\n",
    "# X_train[col_nrm] = nrm.fit_transform(X_train[col_nrm])\n",
    "# X_test[col_nrm] = nrm.transform(X_test[col_nrm])\n",
    "\n",
    "# # Afficher les résultats\n",
    "# print(X_train.shape)\n",
    "# print(X_train.head())\n",
    "# print(X_test.shape)\n",
    "# print(X_test.head())"
   ]
  },
  {
   "cell_type": "code",
   "execution_count": 50,
   "metadata": {},
   "outputs": [],
   "source": [
    "\"\"\"\n",
    "Encapsulation du pipeline d'encodage et de scaling dans une fonction pour simplifier son utilisation\n",
    "\"\"\"\n",
    "from sklearn.preprocessing import OneHotEncoder, MinMaxScaler\n",
    "\n",
    "def preprocess_data(X_train, X_test, col_ohe, col_nrm):\n",
    "    # Initialiser les encodeurs et le scaler\n",
    "    ohe = OneHotEncoder(drop=None, sparse_output=False, handle_unknown=\"ignore\")\n",
    "    nrm = MinMaxScaler()\n",
    "\n",
    "    # OneHotEncoding\n",
    "    ohe_train = ohe.fit_transform(X_train[col_ohe])\n",
    "    ohe_test = ohe.transform(X_test[col_ohe])\n",
    "    ohe_columns = ohe.get_feature_names_out(col_ohe)\n",
    "\n",
    "    # Ajouter les colonnes encodées\n",
    "    X_train_encoded = pd.DataFrame(ohe_train, columns=ohe_columns, index=X_train.index)\n",
    "    X_test_encoded = pd.DataFrame(ohe_test, columns=ohe_columns, index=X_test.index)\n",
    "\n",
    "    X_train = pd.concat([X_train.drop(columns=col_ohe), X_train_encoded], axis=1)\n",
    "    X_test = pd.concat([X_test.drop(columns=col_ohe), X_test_encoded], axis=1)\n",
    "\n",
    "    # MinMax Scaling\n",
    "    X_train[col_nrm] = nrm.fit_transform(X_train[col_nrm])\n",
    "    X_test[col_nrm] = nrm.transform(X_test[col_nrm])\n",
    "\n",
    "    return X_train, X_test"
   ]
  },
  {
   "cell_type": "code",
   "execution_count": 51,
   "metadata": {},
   "outputs": [
    {
     "name": "stdout",
     "output_type": "stream",
     "text": [
      "(719, 479)\n",
      "(180, 479)\n"
     ]
    }
   ],
   "source": [
    "# Utilisation du pipeline\n",
    "\n",
    "col_ohe = [\"annee_consommation\", \"consommation_etat\", \"nom_commune\", \"nom_departement\", \"nom_region\", \"zone_climatique\", \"vecteur_energie\"]\n",
    "col_nrm = [\"surface_declaree\", \"nombre_declaration\", \"densite_energetique\", \"ratio_declaration_consommation\"]\n",
    "\n",
    "X_train, X_test = preprocess_data(X_train, X_test, col_ohe, col_nrm)\n",
    "\n",
    "print(X_train.shape)\n",
    "print(X_test.shape)"
   ]
  },
  {
   "cell_type": "code",
   "execution_count": 52,
   "metadata": {},
   "outputs": [],
   "source": [
    "# Sauvegarde des fichiers Train & Test pour une utilisation rapide\n",
    "\n",
    "X_train.to_csv(\"X_train.csv\", index=False)\n",
    "X_test.to_csv(\"X_test.csv\", index=False)\n",
    "y_train.to_csv(\"y_train.csv\", index=False)\n",
    "y_test.to_csv(\"y_test.csv\", index=False)"
   ]
  },
  {
   "cell_type": "code",
   "execution_count": 59,
   "metadata": {},
   "outputs": [
    {
     "name": "stdout",
     "output_type": "stream",
     "text": [
      "Entraînement du modèle : Régression Linéaire\n",
      "--- Régression Linéaire ---\n",
      "MAE : 1721710258315.14\n",
      "MSE : 18399004850994778749272064.00\n",
      "R² : -1937722671256.51\n",
      "\n",
      "Entraînement du modèle : Forêt Aléatoire\n",
      "--- Forêt Aléatoire ---\n",
      "MAE : 139981.53\n",
      "MSE : 211846501232.89\n",
      "R² : 0.98\n",
      "\n",
      "Entraînement du modèle : Gradient Boosting\n",
      "--- Gradient Boosting ---\n",
      "MAE : 189401.98\n",
      "MSE : 450109658121.40\n",
      "R² : 0.95\n",
      "\n"
     ]
    }
   ],
   "source": [
    "import pandas as pd\n",
    "import numpy as np\n",
    "from sklearn.linear_model import LinearRegression\n",
    "from sklearn.ensemble import RandomForestRegressor, GradientBoostingRegressor\n",
    "from sklearn.metrics import mean_absolute_error, mean_squared_error, r2_score\n",
    "\n",
    "# Charger les fichiers sauvegardés\n",
    "X_train = pd.read_csv(\"X_train.csv\")\n",
    "X_test = pd.read_csv(\"X_test.csv\")\n",
    "y_train = pd.read_csv(\"y_train.csv\")\n",
    "y_test = pd.read_csv(\"y_test.csv\")\n",
    "\n",
    "# Redimensionner y_train et y_test s'ils ont une seule colonne\n",
    "y_train = y_train.values.ravel()\n",
    "y_test = y_test.values.ravel()\n",
    "\n",
    "# Vérification des données cibles\n",
    "assert not np.any(np.isinf(y_train)), \"y_train contient des valeurs infinies.\"\n",
    "assert not np.any(np.isnan(y_train)), \"y_train contient des NaN.\"\n",
    "assert not np.any(np.isinf(y_test)), \"y_test contient des valeurs infinies.\"\n",
    "assert not np.any(np.isnan(y_test)), \"y_test contient des NaN.\"\n",
    "\n",
    "# Fonction d'évaluation\n",
    "def evaluate_model(model, X_test, y_test, model_name):\n",
    "    y_pred = model.predict(X_test)\n",
    "    \n",
    "    # Limitation des prédictions extrêmes\n",
    "    y_pred = np.clip(y_pred, a_min=None, a_max=30)\n",
    "    \n",
    "    y_pred_original = np.expm1(y_pred)\n",
    "    y_test_original = np.expm1(y_test)\n",
    "    \n",
    "    mae = mean_absolute_error(y_test_original, y_pred_original)\n",
    "    mse = mean_squared_error(y_test_original, y_pred_original)\n",
    "    r2 = r2_score(y_test_original, y_pred_original)\n",
    "    print(f\"--- {model_name} ---\")\n",
    "    print(f\"MAE : {mae:.2f}\")\n",
    "    print(f\"MSE : {mse:.2f}\")\n",
    "    print(f\"R² : {r2:.2f}\\n\")\n",
    "\n",
    "# Régression Linéaire\n",
    "print(\"Entraînement du modèle : Régression Linéaire\")\n",
    "lr_model = LinearRegression()\n",
    "lr_model.fit(X_train, y_train)\n",
    "evaluate_model(lr_model, X_test, y_test, \"Régression Linéaire\")\n",
    "\n",
    "# Forêt Aléatoire\n",
    "print(\"Entraînement du modèle : Forêt Aléatoire\")\n",
    "rf_model = RandomForestRegressor(random_state=42)\n",
    "rf_model.fit(X_train, y_train)\n",
    "evaluate_model(rf_model, X_test, y_test, \"Forêt Aléatoire\")\n",
    "\n",
    "# Gradient Boosting\n",
    "print(\"Entraînement du modèle : Gradient Boosting\")\n",
    "gb_model = GradientBoostingRegressor(random_state=42)\n",
    "gb_model.fit(X_train, y_train)\n",
    "evaluate_model(gb_model, X_test, y_test, \"Gradient Boosting\")"
   ]
  },
  {
   "cell_type": "code",
   "execution_count": 60,
   "metadata": {},
   "outputs": [
    {
     "name": "stdout",
     "output_type": "stream",
     "text": [
      "Fitting 3 folds for each of 100 candidates, totalling 300 fits\n",
      "Meilleurs hyperparamètres pour Forêt Aléatoire : {'n_estimators': 500, 'min_samples_split': 2, 'min_samples_leaf': 1, 'max_depth': 10, 'bootstrap': True}\n"
     ]
    }
   ],
   "source": [
    "# Entrainement avancé des modèles RandomForest & Gradient Boosting\n",
    "\n",
    "from sklearn.model_selection import RandomizedSearchCV\n",
    "\n",
    "# Hyperparamètres à tester\n",
    "param_distributions_rf = {\n",
    "    'n_estimators': [100, 200, 500],\n",
    "    'max_depth': [10, 20, 50, None],\n",
    "    'min_samples_split': [2, 5, 10],\n",
    "    'min_samples_leaf': [1, 2, 4],\n",
    "    'bootstrap': [True, False]\n",
    "}\n",
    "\n",
    "# Recherche aléatoire\n",
    "rf_random_search = RandomizedSearchCV(\n",
    "    estimator=RandomForestRegressor(random_state=42),\n",
    "    param_distributions=param_distributions_rf,\n",
    "    n_iter=100,\n",
    "    cv=3,\n",
    "    verbose=2,\n",
    "    random_state=42,\n",
    "    n_jobs=-1\n",
    ")\n",
    "\n",
    "rf_random_search.fit(X_train, y_train)\n",
    "\n",
    "# Meilleurs hyperparamètres\n",
    "print(\"Meilleurs hyperparamètres pour Forêt Aléatoire :\", rf_random_search.best_params_)"
   ]
  },
  {
   "cell_type": "code",
   "execution_count": 61,
   "metadata": {},
   "outputs": [
    {
     "name": "stdout",
     "output_type": "stream",
     "text": [
      "Fitting 3 folds for each of 100 candidates, totalling 300 fits\n",
      "Meilleurs hyperparamètres pour Gradient Boosting : {'subsample': 0.6, 'n_estimators': 500, 'min_samples_split': 10, 'min_samples_leaf': 2, 'max_depth': 5, 'learning_rate': 0.1}\n"
     ]
    }
   ],
   "source": [
    "param_distributions_gb = {\n",
    "    'n_estimators': [100, 200, 500],\n",
    "    'learning_rate': [0.01, 0.1, 0.2],\n",
    "    'max_depth': [3, 5, 10],\n",
    "    'min_samples_split': [2, 5, 10],\n",
    "    'min_samples_leaf': [1, 2, 4],\n",
    "    'subsample': [0.6, 0.8, 1.0]\n",
    "}\n",
    "\n",
    "gb_random_search = RandomizedSearchCV(\n",
    "    estimator=GradientBoostingRegressor(random_state=42),\n",
    "    param_distributions=param_distributions_gb,\n",
    "    n_iter=100,\n",
    "    cv=3,\n",
    "    verbose=2,\n",
    "    random_state=42,\n",
    "    n_jobs=-1\n",
    ")\n",
    "\n",
    "gb_random_search.fit(X_train, y_train)\n",
    "\n",
    "# Meilleurs hyperparamètres\n",
    "print(\"Meilleurs hyperparamètres pour Gradient Boosting :\", gb_random_search.best_params_)"
   ]
  },
  {
   "cell_type": "code",
   "execution_count": 62,
   "metadata": {},
   "outputs": [
    {
     "name": "stdout",
     "output_type": "stream",
     "text": [
      "Score moyen (MAE) pour Forêt Aléatoire : 0.07361373952589685\n",
      "Score moyen (MAE) pour Gradient Boosting : 0.056233768559028376\n"
     ]
    }
   ],
   "source": [
    "from sklearn.model_selection import cross_val_score\n",
    "\n",
    "# Validation croisée pour Forêt Aléatoire\n",
    "cv_scores_rf = cross_val_score(rf_random_search.best_estimator_, X_train, y_train, cv=5, scoring='neg_mean_absolute_error')\n",
    "print(\"Score moyen (MAE) pour Forêt Aléatoire :\", -cv_scores_rf.mean())\n",
    "\n",
    "# Validation croisée pour Gradient Boosting\n",
    "cv_scores_gb = cross_val_score(gb_random_search.best_estimator_, X_train, y_train, cv=5, scoring='neg_mean_absolute_error')\n",
    "print(\"Score moyen (MAE) pour Gradient Boosting :\", -cv_scores_gb.mean())"
   ]
  },
  {
   "cell_type": "code",
   "execution_count": 65,
   "metadata": {},
   "outputs": [
    {
     "name": "stdout",
     "output_type": "stream",
     "text": [
      "                                   Feature  Importance\n",
      "3           ratio_declaration_consommation    0.764696\n",
      "0                         surface_declaree    0.143212\n",
      "1                       nombre_declaration    0.071359\n",
      "2                      densite_energetique    0.015684\n",
      "472                     zone_climatique_H3    0.000439\n",
      "5                  annee_consommation_2021    0.000214\n",
      "7    annee_consommation_Année de référence    0.000185\n",
      "182     nom_commune_LES ARTIGUES DE LUSSAC    0.000163\n",
      "6                  annee_consommation_2022    0.000152\n",
      "220                  nom_commune_MONTSOULT    0.000139\n",
      "                                Feature  Importance\n",
      "3        ratio_declaration_consommation    0.760196\n",
      "0                      surface_declaree    0.141715\n",
      "1                    nombre_declaration    0.074141\n",
      "2                   densite_energetique    0.021370\n",
      "220               nom_commune_MONTSOULT    0.000492\n",
      "471                 zone_climatique_H2d    0.000250\n",
      "475                 zone_climatique_REU    0.000197\n",
      "182  nom_commune_LES ARTIGUES DE LUSSAC    0.000182\n",
      "476         vecteur_energie_Electricite    0.000104\n",
      "6               annee_consommation_2022    0.000103\n"
     ]
    }
   ],
   "source": [
    "# Importance des features pour la Forêt Aléatoire\n",
    "importances_rf = rf_random_search.best_estimator_.feature_importances_\n",
    "feature_importance_df_rf = pd.DataFrame({'Feature': X_train.columns, 'Importance': importances_rf})\n",
    "print(feature_importance_df_rf.sort_values(by='Importance', ascending=False).head(10))\n",
    "\n",
    "# Importance des features pour Gradient Boosting\n",
    "importances_gb = gb_random_search.best_estimator_.feature_importances_\n",
    "feature_importance_df_gb = pd.DataFrame({'Feature': X_train.columns, 'Importance': importances_gb})\n",
    "print(feature_importance_df_gb.sort_values(by='Importance', ascending=False).head(10))"
   ]
  },
  {
   "cell_type": "code",
   "execution_count": 67,
   "metadata": {},
   "outputs": [
    {
     "name": "stdout",
     "output_type": "stream",
     "text": [
      "Top features (Random Forest):\n",
      "                                   Feature  Importance\n",
      "3           ratio_declaration_consommation    0.764696\n",
      "0                         surface_declaree    0.143212\n",
      "1                       nombre_declaration    0.071359\n",
      "2                      densite_energetique    0.015684\n",
      "472                     zone_climatique_H3    0.000439\n",
      "5                  annee_consommation_2021    0.000214\n",
      "7    annee_consommation_Année de référence    0.000185\n",
      "182     nom_commune_LES ARTIGUES DE LUSSAC    0.000163\n",
      "6                  annee_consommation_2022    0.000152\n",
      "220                  nom_commune_MONTSOULT    0.000139\n",
      "437             nom_departement_Val-d'Oise    0.000129\n",
      "4                  annee_consommation_2020    0.000117\n",
      "478                vecteur_energie_Inconnu    0.000117\n",
      "468                    zone_climatique_H2a    0.000110\n",
      "450                   nom_region_Grand-Est    0.000108\n",
      "465                    zone_climatique_H1a    0.000104\n",
      "466                    zone_climatique_H1b    0.000103\n",
      "476            vecteur_energie_Electricite    0.000101\n",
      "272                 nom_commune_ROPPENHEIM    0.000100\n",
      "369               nom_departement_Bas-Rhin    0.000087\n",
      "Top features (Gradient Boosting):\n",
      "                                   Feature  Importance\n",
      "3           ratio_declaration_consommation    0.760196\n",
      "0                         surface_declaree    0.141715\n",
      "1                       nombre_declaration    0.074141\n",
      "2                      densite_energetique    0.021370\n",
      "220                  nom_commune_MONTSOULT    0.000492\n",
      "471                    zone_climatique_H2d    0.000250\n",
      "475                    zone_climatique_REU    0.000197\n",
      "182     nom_commune_LES ARTIGUES DE LUSSAC    0.000182\n",
      "476            vecteur_energie_Electricite    0.000104\n",
      "6                  annee_consommation_2022    0.000103\n",
      "108                   nom_commune_FALLERON    0.000097\n",
      "460            nom_region_Pays de la Loire    0.000075\n",
      "369               nom_departement_Bas-Rhin    0.000074\n",
      "473                    zone_climatique_MAR    0.000073\n",
      "466                    zone_climatique_H1b    0.000059\n",
      "455                  nom_region_Martinique    0.000053\n",
      "7    annee_consommation_Année de référence    0.000052\n",
      "470                    zone_climatique_H2c    0.000032\n",
      "402                nom_departement_Hérault    0.000031\n",
      "64                     nom_commune_CAYENNE    0.000030\n"
     ]
    }
   ],
   "source": [
    "# Importance des features (Random Forest)\n",
    "rf_importances = pd.DataFrame({\n",
    "    \"Feature\": X_train.columns,\n",
    "    \"Importance\": rf_model_optimized.feature_importances_\n",
    "}).sort_values(by=\"Importance\", ascending=False)\n",
    "\n",
    "# Importance des features (Gradient Boosting)\n",
    "gb_importances = pd.DataFrame({\n",
    "    \"Feature\": X_train.columns,\n",
    "    \"Importance\": gb_model_optimized.feature_importances_\n",
    "}).sort_values(by=\"Importance\", ascending=False)\n",
    "\n",
    "# Affichage\n",
    "print(\"Top features (Random Forest):\")\n",
    "print(rf_importances.head(20))\n",
    "\n",
    "print(\"Top features (Gradient Boosting):\")\n",
    "print(gb_importances.head(20))"
   ]
  },
  {
   "cell_type": "markdown",
   "metadata": {},
   "source": [
    "##  Approches pour réduire les dimensions\n",
    "### Approche 1 : Conserver uniquement les features importantes\n"
   ]
  },
  {
   "cell_type": "code",
   "execution_count": 69,
   "metadata": {},
   "outputs": [
    {
     "name": "stdout",
     "output_type": "stream",
     "text": [
      "Dimensions après réduction : (719, 29)\n"
     ]
    }
   ],
   "source": [
    "# Sélection des features importantes\n",
    "top_rf_features = rf_importances.head(20)[\"Feature\"].tolist()\n",
    "top_gb_features = gb_importances.head(20)[\"Feature\"].tolist()\n",
    "\n",
    "# Combiner les meilleures features des deux modèles\n",
    "selected_features = set(top_rf_features).union(set(top_gb_features))\n",
    "\n",
    "# Vérifier les correspondances exactes avec X_train et X_test\n",
    "common_features = [feature for feature in selected_features if feature in X_train.columns]\n",
    "\n",
    "# Réduction des dimensions\n",
    "X_train_reduced = X_train[common_features]\n",
    "X_test_reduced = X_test[common_features]\n",
    "\n",
    "# Vérification des dimensions\n",
    "print(f\"Dimensions après réduction : {X_train_reduced.shape}\")"
   ]
  },
  {
   "cell_type": "code",
   "execution_count": 70,
   "metadata": {},
   "outputs": [
    {
     "name": "stdout",
     "output_type": "stream",
     "text": [
      "Réentraînement du modèle : Forêt Aléatoire\n",
      "--- Forêt Aléatoire (Réduit) ---\n",
      "MAE : 143057.07\n",
      "MSE : 221878926389.46\n",
      "R² : 0.98\n",
      "\n",
      "Réentraînement du modèle : Gradient Boosting\n",
      "--- Gradient Boosting (Réduit) ---\n",
      "MAE : 137328.79\n",
      "MSE : 323549558255.44\n",
      "R² : 0.97\n",
      "\n"
     ]
    }
   ],
   "source": [
    "# Réentraîner Random Forest\n",
    "print(\"Réentraînement du modèle : Forêt Aléatoire\")\n",
    "rf_reduced_model = RandomForestRegressor(\n",
    "    n_estimators=500,\n",
    "    min_samples_split=2,\n",
    "    min_samples_leaf=1,\n",
    "    max_depth=10,\n",
    "    bootstrap=True,\n",
    "    random_state=42\n",
    ")\n",
    "rf_reduced_model.fit(X_train_reduced, y_train)\n",
    "evaluate_model(rf_reduced_model, X_test_reduced, y_test, \"Forêt Aléatoire (Réduit)\")\n",
    "\n",
    "# Réentraîner Gradient Boosting\n",
    "print(\"Réentraînement du modèle : Gradient Boosting\")\n",
    "gb_reduced_model = GradientBoostingRegressor(\n",
    "    subsample=0.6,\n",
    "    n_estimators=500,\n",
    "    min_samples_split=10,\n",
    "    min_samples_leaf=2,\n",
    "    max_depth=5,\n",
    "    learning_rate=0.1,\n",
    "    random_state=42\n",
    ")\n",
    "gb_reduced_model.fit(X_train_reduced, y_train)\n",
    "evaluate_model(gb_reduced_model, X_test_reduced, y_test, \"Gradient Boosting (Réduit)\")"
   ]
  },
  {
   "cell_type": "markdown",
   "metadata": {},
   "source": [
    "### Approche 1 : Bonne approche\n",
    "\n",
    "Les résultats après réduction des dimensions montrent que :\n",
    "\n",
    "Forêt Aléatoire (Réduit) :\n",
    "\n",
    "Le modèle conserve une très bonne performance avec un MAE légèrement augmenté par rapport au modèle initial (augmentation d'environ 3% par rapport à 139,981.53).\n",
    "MSE et R² restent globalement stables, indiquant que la réduction des dimensions n'a pas significativement impacté sa capacité prédictive.\n",
    "Gradient Boosting (Réduit) :\n",
    "\n",
    "Le modèle réduit affiche un MAE amélioré (diminution de 4% par rapport à 189,401.98), montrant une meilleure robustesse après réduction.\n",
    "MSE est légèrement plus élevé, mais R² reste élevé à 0.97, ce qui témoigne d'une excellente performance globale."
   ]
  },
  {
   "cell_type": "markdown",
   "metadata": {},
   "source": [
    "##  Approches pour réduire les dimensions\n",
    "### Approche 2 : Éliminer les variables à faible variance"
   ]
  },
  {
   "cell_type": "code",
   "execution_count": 71,
   "metadata": {},
   "outputs": [
    {
     "name": "stdout",
     "output_type": "stream",
     "text": [
      "Dimensions après réduction par variance : (719, 73)\n"
     ]
    }
   ],
   "source": [
    "from sklearn.feature_selection import VarianceThreshold\n",
    "\n",
    "# Appliquer un seuil de variance\n",
    "threshold = 0.01  # Seuil (ajustez selon vos données)\n",
    "selector = VarianceThreshold(threshold=threshold)\n",
    "X_train_lowered = selector.fit_transform(X_train)\n",
    "X_test_lowered = selector.transform(X_test)\n",
    "\n",
    "# Obtenir les noms des features sélectionnées\n",
    "selected_columns = X_train.columns[selector.get_support()]\n",
    "X_train_lowered = pd.DataFrame(X_train_lowered, columns=selected_columns)\n",
    "X_test_lowered = pd.DataFrame(X_test_lowered, columns=selected_columns)\n",
    "\n",
    "print(f\"Dimensions après réduction par variance : {X_train_lowered.shape}\")"
   ]
  },
  {
   "cell_type": "code",
   "execution_count": 72,
   "metadata": {},
   "outputs": [
    {
     "name": "stdout",
     "output_type": "stream",
     "text": [
      "Réentraînement du modèle : Forêt Aléatoire\n",
      "--- Forêt Aléatoire (Réduit) ---\n",
      "MAE : 732921.27\n",
      "MSE : 1572785121400.06\n",
      "R² : 0.83\n",
      "\n",
      "Réentraînement du modèle : Gradient Boosting\n",
      "--- Gradient Boosting (Réduit) ---\n",
      "MAE : 841466.65\n",
      "MSE : 2691678688580.91\n",
      "R² : 0.72\n",
      "\n"
     ]
    }
   ],
   "source": [
    "# Réentraîner Random Forest\n",
    "print(\"Réentraînement du modèle : Forêt Aléatoire\")\n",
    "rf_lowered_model = RandomForestRegressor(\n",
    "    n_estimators=500,\n",
    "    min_samples_split=2,\n",
    "    min_samples_leaf=1,\n",
    "    max_depth=10,\n",
    "    bootstrap=True,\n",
    "    random_state=42\n",
    ")\n",
    "rf_lowered_model.fit(X_train_lowered, y_train)\n",
    "evaluate_model(rf_lowered_model, X_test_lowered, y_test, \"Forêt Aléatoire (Réduit)\")\n",
    "\n",
    "# Réentraîner Gradient Boosting\n",
    "print(\"Réentraînement du modèle : Gradient Boosting\")\n",
    "gb_lowered_model = GradientBoostingRegressor(\n",
    "    subsample=0.6,\n",
    "    n_estimators=500,\n",
    "    min_samples_split=10,\n",
    "    min_samples_leaf=2,\n",
    "    max_depth=5,\n",
    "    learning_rate=0.1,\n",
    "    random_state=42\n",
    ")\n",
    "gb_lowered_model.fit(X_train_lowered, y_train)\n",
    "evaluate_model(gb_lowered_model, X_test_lowered, y_test, \"Gradient Boosting (Réduit)\")"
   ]
  },
  {
   "cell_type": "markdown",
   "metadata": {},
   "source": [
    "### Approche 2 : Mauvaise approche\n",
    "\n",
    "Trop de perte en qualité des modèles en témoigne une baisse de 15% pour le Random Forest et 25% pour le Gradient Boosting"
   ]
  },
  {
   "cell_type": "markdown",
   "metadata": {},
   "source": [
    "##  Approches pour réduire les dimensions\n",
    "### Approche 3 : PCA (Analyse en Composantes Principales)"
   ]
  },
  {
   "cell_type": "code",
   "execution_count": 73,
   "metadata": {},
   "outputs": [
    {
     "name": "stdout",
     "output_type": "stream",
     "text": [
      "Dimensions après PCA : (719, 20)\n"
     ]
    }
   ],
   "source": [
    "from sklearn.decomposition import PCA\n",
    "\n",
    "# Réduction avec PCA\n",
    "pca = PCA(n_components=20)  # Nombre de composantes principales à conserver\n",
    "X_train_pca = pca.fit_transform(X_train)\n",
    "X_test_pca = pca.transform(X_test)\n",
    "\n",
    "print(f\"Dimensions après PCA : {X_train_pca.shape}\")"
   ]
  },
  {
   "cell_type": "code",
   "execution_count": 74,
   "metadata": {},
   "outputs": [
    {
     "name": "stdout",
     "output_type": "stream",
     "text": [
      "Réentraînement du modèle : Forêt Aléatoire\n",
      "--- Forêt Aléatoire (Réduit) ---\n",
      "MAE : 1015502.17\n",
      "MSE : 6099944311651.10\n",
      "R² : 0.36\n",
      "\n",
      "Réentraînement du modèle : Gradient Boosting\n",
      "--- Gradient Boosting (Réduit) ---\n",
      "MAE : 978085.30\n",
      "MSE : 4324439976902.77\n",
      "R² : 0.54\n",
      "\n"
     ]
    }
   ],
   "source": [
    "# Réentraîner Random Forest\n",
    "print(\"Réentraînement du modèle : Forêt Aléatoire\")\n",
    "rf_pca_model = RandomForestRegressor(\n",
    "    n_estimators=500,\n",
    "    min_samples_split=2,\n",
    "    min_samples_leaf=1,\n",
    "    max_depth=10,\n",
    "    bootstrap=True,\n",
    "    random_state=42\n",
    ")\n",
    "rf_pca_model.fit(X_train_pca, y_train)\n",
    "evaluate_model(rf_pca_model, X_test_pca, y_test, \"Forêt Aléatoire (Réduit)\")\n",
    "\n",
    "# Réentraîner Gradient Boosting\n",
    "print(\"Réentraînement du modèle : Gradient Boosting\")\n",
    "gb_pca_model = GradientBoostingRegressor(\n",
    "    subsample=0.6,\n",
    "    n_estimators=500,\n",
    "    min_samples_split=10,\n",
    "    min_samples_leaf=2,\n",
    "    max_depth=5,\n",
    "    learning_rate=0.1,\n",
    "    random_state=42\n",
    ")\n",
    "gb_pca_model.fit(X_train_pca, y_train)\n",
    "evaluate_model(gb_pca_model, X_test_pca, y_test, \"Gradient Boosting (Réduit)\")"
   ]
  },
  {
   "cell_type": "markdown",
   "metadata": {},
   "source": [
    "### Approche 3 : Pire que l'Approche 2.\n",
    "\n",
    "Cette approche est à oublier, perte de 62% pour le RandomForest et perte de 43% pour le Grandient Boosting"
   ]
  },
  {
   "cell_type": "markdown",
   "metadata": {},
   "source": [
    "## Optimisation avancée des hyperparamètres avec Optuna"
   ]
  },
  {
   "cell_type": "markdown",
   "metadata": {},
   "source": [
    "### Optimisation de RandomForest"
   ]
  },
  {
   "cell_type": "code",
   "execution_count": 75,
   "metadata": {},
   "outputs": [
    {
     "name": "stderr",
     "output_type": "stream",
     "text": [
      "c:\\Users\\aboys\\Documents\\Simplon\\Projet Industriel\\PowerPredict\\__venv\\Lib\\site-packages\\tqdm\\auto.py:21: TqdmWarning: IProgress not found. Please update jupyter and ipywidgets. See https://ipywidgets.readthedocs.io/en/stable/user_install.html\n",
      "  from .autonotebook import tqdm as notebook_tqdm\n",
      "[I 2024-11-27 17:29:21,387] A new study created in memory with name: no-name-258f39f8-dbdf-4751-9e4e-61dcd6cc234a\n",
      "[I 2024-11-27 17:29:22,902] Trial 0 finished with value: 0.1168454092226869 and parameters: {'n_estimators': 250, 'min_samples_split': 5, 'min_samples_leaf': 3, 'max_depth': 40, 'bootstrap': False}. Best is trial 0 with value: 0.1168454092226869.\n",
      "[I 2024-11-27 17:29:27,162] Trial 1 finished with value: 0.2140407086035417 and parameters: {'n_estimators': 1000, 'min_samples_split': 10, 'min_samples_leaf': 2, 'max_depth': 5, 'bootstrap': False}. Best is trial 0 with value: 0.1168454092226869.\n",
      "[I 2024-11-27 17:29:31,160] Trial 2 finished with value: 0.1658039213104865 and parameters: {'n_estimators': 800, 'min_samples_split': 17, 'min_samples_leaf': 1, 'max_depth': 15, 'bootstrap': False}. Best is trial 0 with value: 0.1168454092226869.\n",
      "[I 2024-11-27 17:29:32,494] Trial 3 finished with value: 0.16293543086121046 and parameters: {'n_estimators': 350, 'min_samples_split': 2, 'min_samples_leaf': 10, 'max_depth': 15, 'bootstrap': True}. Best is trial 0 with value: 0.1168454092226869.\n",
      "[I 2024-11-27 17:29:35,595] Trial 4 finished with value: 0.12672334786027442 and parameters: {'n_estimators': 750, 'min_samples_split': 14, 'min_samples_leaf': 5, 'max_depth': 40, 'bootstrap': True}. Best is trial 0 with value: 0.1168454092226869.\n",
      "[I 2024-11-27 17:29:36,262] Trial 5 finished with value: 0.20510486990128418 and parameters: {'n_estimators': 150, 'min_samples_split': 13, 'min_samples_leaf': 10, 'max_depth': 30, 'bootstrap': False}. Best is trial 0 with value: 0.1168454092226869.\n",
      "[I 2024-11-27 17:29:38,790] Trial 6 finished with value: 0.15529975443092545 and parameters: {'n_estimators': 500, 'min_samples_split': 15, 'min_samples_leaf': 2, 'max_depth': 30, 'bootstrap': False}. Best is trial 0 with value: 0.1168454092226869.\n",
      "[I 2024-11-27 17:29:39,847] Trial 7 finished with value: 0.12514762583813155 and parameters: {'n_estimators': 250, 'min_samples_split': 7, 'min_samples_leaf': 6, 'max_depth': 10, 'bootstrap': True}. Best is trial 0 with value: 0.1168454092226869.\n",
      "[I 2024-11-27 17:29:40,935] Trial 8 finished with value: 0.11296974445494884 and parameters: {'n_estimators': 250, 'min_samples_split': 9, 'min_samples_leaf': 5, 'max_depth': 35, 'bootstrap': True}. Best is trial 8 with value: 0.11296974445494884.\n",
      "[I 2024-11-27 17:29:44,797] Trial 9 finished with value: 0.0888108077951875 and parameters: {'n_estimators': 800, 'min_samples_split': 4, 'min_samples_leaf': 3, 'max_depth': 45, 'bootstrap': True}. Best is trial 9 with value: 0.0888108077951875.\n",
      "[I 2024-11-27 17:29:47,696] Trial 10 finished with value: 0.15243583429780716 and parameters: {'n_estimators': 750, 'min_samples_split': 20, 'min_samples_leaf': 7, 'max_depth': 50, 'bootstrap': True}. Best is trial 9 with value: 0.0888108077951875.\n",
      "[I 2024-11-27 17:29:50,438] Trial 11 finished with value: 0.10020423698698387 and parameters: {'n_estimators': 600, 'min_samples_split': 8, 'min_samples_leaf': 4, 'max_depth': 50, 'bootstrap': True}. Best is trial 9 with value: 0.0888108077951875.\n",
      "[I 2024-11-27 17:29:52,935] Trial 12 finished with value: 0.1002624150919217 and parameters: {'n_estimators': 550, 'min_samples_split': 3, 'min_samples_leaf': 4, 'max_depth': 50, 'bootstrap': True}. Best is trial 9 with value: 0.0888108077951875.\n",
      "[I 2024-11-27 17:29:56,752] Trial 13 finished with value: 0.13623964434386965 and parameters: {'n_estimators': 950, 'min_samples_split': 6, 'min_samples_leaf': 7, 'max_depth': 45, 'bootstrap': True}. Best is trial 9 with value: 0.0888108077951875.\n",
      "[I 2024-11-27 17:29:59,805] Trial 14 finished with value: 0.09454822368996518 and parameters: {'n_estimators': 650, 'min_samples_split': 8, 'min_samples_leaf': 3, 'max_depth': 50, 'bootstrap': True}. Best is trial 9 with value: 0.0888108077951875.\n",
      "[I 2024-11-27 17:30:03,505] Trial 15 finished with value: 0.07803380010669116 and parameters: {'n_estimators': 650, 'min_samples_split': 4, 'min_samples_leaf': 1, 'max_depth': 40, 'bootstrap': True}. Best is trial 15 with value: 0.07803380010669116.\n",
      "[I 2024-11-27 17:30:08,708] Trial 16 finished with value: 0.07765982104170835 and parameters: {'n_estimators': 900, 'min_samples_split': 4, 'min_samples_leaf': 1, 'max_depth': 25, 'bootstrap': True}. Best is trial 16 with value: 0.07765982104170835.\n",
      "[I 2024-11-27 17:30:14,990] Trial 17 finished with value: 0.07575943383768158 and parameters: {'n_estimators': 900, 'min_samples_split': 2, 'min_samples_leaf': 1, 'max_depth': 20, 'bootstrap': True}. Best is trial 17 with value: 0.07575943383768158.\n",
      "[I 2024-11-27 17:30:21,257] Trial 18 finished with value: 0.07575943383768158 and parameters: {'n_estimators': 900, 'min_samples_split': 2, 'min_samples_leaf': 1, 'max_depth': 20, 'bootstrap': True}. Best is trial 17 with value: 0.07575943383768158.\n",
      "[I 2024-11-27 17:30:26,519] Trial 19 finished with value: 0.07975404530446654 and parameters: {'n_estimators': 900, 'min_samples_split': 2, 'min_samples_leaf': 2, 'max_depth': 20, 'bootstrap': True}. Best is trial 17 with value: 0.07575943383768158.\n",
      "[I 2024-11-27 17:30:30,581] Trial 20 finished with value: 0.1455340007860454 and parameters: {'n_estimators': 1000, 'min_samples_split': 12, 'min_samples_leaf': 8, 'max_depth': 20, 'bootstrap': True}. Best is trial 17 with value: 0.07575943383768158.\n",
      "[I 2024-11-27 17:30:36,738] Trial 21 finished with value: 0.07575943383768158 and parameters: {'n_estimators': 900, 'min_samples_split': 2, 'min_samples_leaf': 1, 'max_depth': 25, 'bootstrap': True}. Best is trial 17 with value: 0.07575943383768158.\n",
      "[I 2024-11-27 17:30:42,510] Trial 22 finished with value: 0.07586354401673268 and parameters: {'n_estimators': 850, 'min_samples_split': 2, 'min_samples_leaf': 1, 'max_depth': 25, 'bootstrap': True}. Best is trial 17 with value: 0.07575943383768158.\n",
      "[I 2024-11-27 17:30:46,118] Trial 23 finished with value: 0.08422883053569358 and parameters: {'n_estimators': 700, 'min_samples_split': 6, 'min_samples_leaf': 2, 'max_depth': 20, 'bootstrap': True}. Best is trial 17 with value: 0.07575943383768158.\n",
      "[I 2024-11-27 17:30:51,089] Trial 24 finished with value: 0.07960819760463815 and parameters: {'n_estimators': 900, 'min_samples_split': 5, 'min_samples_leaf': 1, 'max_depth': 15, 'bootstrap': True}. Best is trial 17 with value: 0.07575943383768158.\n",
      "[I 2024-11-27 17:30:56,174] Trial 25 finished with value: 0.08832840861174633 and parameters: {'n_estimators': 1000, 'min_samples_split': 2, 'min_samples_leaf': 3, 'max_depth': 25, 'bootstrap': True}. Best is trial 17 with value: 0.07575943383768158.\n",
      "[I 2024-11-27 17:30:58,078] Trial 26 finished with value: 0.21466225669619388 and parameters: {'n_estimators': 450, 'min_samples_split': 4, 'min_samples_leaf': 4, 'max_depth': 5, 'bootstrap': False}. Best is trial 17 with value: 0.07575943383768158.\n",
      "[I 2024-11-27 17:31:02,519] Trial 27 finished with value: 0.08426687837742519 and parameters: {'n_estimators': 850, 'min_samples_split': 6, 'min_samples_leaf': 2, 'max_depth': 10, 'bootstrap': True}. Best is trial 17 with value: 0.07575943383768158.\n",
      "[I 2024-11-27 17:31:07,682] Trial 28 finished with value: 0.07650739137471545 and parameters: {'n_estimators': 800, 'min_samples_split': 3, 'min_samples_leaf': 1, 'max_depth': 30, 'bootstrap': True}. Best is trial 17 with value: 0.07575943383768158.\n",
      "[I 2024-11-27 17:31:13,481] Trial 29 finished with value: 0.11689801170267122 and parameters: {'n_estimators': 950, 'min_samples_split': 5, 'min_samples_leaf': 3, 'max_depth': 35, 'bootstrap': False}. Best is trial 17 with value: 0.07575943383768158.\n",
      "[I 2024-11-27 17:31:16,726] Trial 30 finished with value: 0.10407939593899763 and parameters: {'n_estimators': 700, 'min_samples_split': 11, 'min_samples_leaf': 2, 'max_depth': 20, 'bootstrap': True}. Best is trial 17 with value: 0.07575943383768158.\n",
      "[I 2024-11-27 17:31:22,849] Trial 31 finished with value: 0.07575943383768158 and parameters: {'n_estimators': 900, 'min_samples_split': 2, 'min_samples_leaf': 1, 'max_depth': 25, 'bootstrap': True}. Best is trial 17 with value: 0.07575943383768158.\n",
      "[I 2024-11-27 17:31:28,799] Trial 32 finished with value: 0.0761637003281056 and parameters: {'n_estimators': 950, 'min_samples_split': 3, 'min_samples_leaf': 1, 'max_depth': 25, 'bootstrap': True}. Best is trial 17 with value: 0.07575943383768158.\n",
      "[I 2024-11-27 17:31:33,811] Trial 33 finished with value: 0.07995439377421924 and parameters: {'n_estimators': 850, 'min_samples_split': 2, 'min_samples_leaf': 2, 'max_depth': 20, 'bootstrap': True}. Best is trial 17 with value: 0.07575943383768158.\n",
      "[I 2024-11-27 17:31:40,812] Trial 34 finished with value: 0.10754822314246208 and parameters: {'n_estimators': 900, 'min_samples_split': 3, 'min_samples_leaf': 1, 'max_depth': 15, 'bootstrap': False}. Best is trial 17 with value: 0.07575943383768158.\n",
      "[I 2024-11-27 17:31:43,703] Trial 35 finished with value: 0.15433889491731165 and parameters: {'n_estimators': 750, 'min_samples_split': 5, 'min_samples_leaf': 9, 'max_depth': 35, 'bootstrap': True}. Best is trial 17 with value: 0.07575943383768158.\n",
      "[I 2024-11-27 17:31:47,735] Trial 36 finished with value: 0.14060091793491283 and parameters: {'n_estimators': 1000, 'min_samples_split': 19, 'min_samples_leaf': 2, 'max_depth': 10, 'bootstrap': True}. Best is trial 17 with value: 0.07575943383768158.\n",
      "[I 2024-11-27 17:31:52,544] Trial 37 finished with value: 0.11687909947137338 and parameters: {'n_estimators': 800, 'min_samples_split': 2, 'min_samples_leaf': 3, 'max_depth': 30, 'bootstrap': False}. Best is trial 17 with value: 0.07575943383768158.\n",
      "[I 2024-11-27 17:31:54,247] Trial 38 finished with value: 0.13279984940100986 and parameters: {'n_estimators': 400, 'min_samples_split': 17, 'min_samples_leaf': 1, 'max_depth': 15, 'bootstrap': True}. Best is trial 17 with value: 0.07575943383768158.\n",
      "[I 2024-11-27 17:31:59,927] Trial 39 finished with value: 0.11846362189176841 and parameters: {'n_estimators': 950, 'min_samples_split': 7, 'min_samples_leaf': 2, 'max_depth': 25, 'bootstrap': False}. Best is trial 17 with value: 0.07575943383768158.\n",
      "[I 2024-11-27 17:32:03,590] Trial 40 finished with value: 0.1127651725830826 and parameters: {'n_estimators': 850, 'min_samples_split': 10, 'min_samples_leaf': 5, 'max_depth': 30, 'bootstrap': True}. Best is trial 17 with value: 0.07575943383768158.\n",
      "[I 2024-11-27 17:32:09,231] Trial 41 finished with value: 0.07586354401673268 and parameters: {'n_estimators': 850, 'min_samples_split': 2, 'min_samples_leaf': 1, 'max_depth': 25, 'bootstrap': True}. Best is trial 17 with value: 0.07575943383768158.\n",
      "[I 2024-11-27 17:32:14,294] Trial 42 finished with value: 0.07650739137471545 and parameters: {'n_estimators': 800, 'min_samples_split': 3, 'min_samples_leaf': 1, 'max_depth': 20, 'bootstrap': True}. Best is trial 17 with value: 0.07575943383768158.\n",
      "[I 2024-11-27 17:32:19,295] Trial 43 finished with value: 0.07975404530446654 and parameters: {'n_estimators': 900, 'min_samples_split': 4, 'min_samples_leaf': 2, 'max_depth': 25, 'bootstrap': True}. Best is trial 17 with value: 0.07575943383768158.\n",
      "[I 2024-11-27 17:32:20,363] Trial 44 finished with value: 0.0766876823666681 and parameters: {'n_estimators': 150, 'min_samples_split': 2, 'min_samples_leaf': 1, 'max_depth': 15, 'bootstrap': True}. Best is trial 17 with value: 0.07575943383768158.\n",
      "[I 2024-11-27 17:32:26,600] Trial 45 finished with value: 0.07608444554950695 and parameters: {'n_estimators': 1000, 'min_samples_split': 3, 'min_samples_leaf': 1, 'max_depth': 30, 'bootstrap': True}. Best is trial 17 with value: 0.07575943383768158.\n",
      "[I 2024-11-27 17:32:30,325] Trial 46 finished with value: 0.08870407204256191 and parameters: {'n_estimators': 750, 'min_samples_split': 4, 'min_samples_leaf': 3, 'max_depth': 20, 'bootstrap': True}. Best is trial 17 with value: 0.07575943383768158.\n",
      "[I 2024-11-27 17:32:34,355] Trial 47 finished with value: 0.12475500919278375 and parameters: {'n_estimators': 950, 'min_samples_split': 6, 'min_samples_leaf': 6, 'max_depth': 35, 'bootstrap': True}. Best is trial 17 with value: 0.07575943383768158.\n",
      "[I 2024-11-27 17:32:37,944] Trial 48 finished with value: 0.1272757807870071 and parameters: {'n_estimators': 850, 'min_samples_split': 15, 'min_samples_leaf': 4, 'max_depth': 25, 'bootstrap': True}. Best is trial 17 with value: 0.07575943383768158.\n",
      "[I 2024-11-27 17:32:42,307] Trial 49 finished with value: 0.08009293931538695 and parameters: {'n_estimators': 800, 'min_samples_split': 3, 'min_samples_leaf': 2, 'max_depth': 15, 'bootstrap': True}. Best is trial 17 with value: 0.07575943383768158.\n"
     ]
    },
    {
     "name": "stdout",
     "output_type": "stream",
     "text": [
      "Meilleurs hyperparamètres pour Random Forest : {'n_estimators': 900, 'min_samples_split': 2, 'min_samples_leaf': 1, 'max_depth': 20, 'bootstrap': True}\n"
     ]
    }
   ],
   "source": [
    "import optuna\n",
    "from sklearn.ensemble import RandomForestRegressor\n",
    "from sklearn.model_selection import cross_val_score\n",
    "from sklearn.metrics import make_scorer, mean_absolute_error\n",
    "\n",
    "# Fonction d'objectif pour le tuning de RandomForest\n",
    "def objective_rf(trial):\n",
    "    # Hyperparamètres à optimiser\n",
    "    n_estimators = trial.suggest_int(\"n_estimators\", 100, 1000, step=50)\n",
    "    min_samples_split = trial.suggest_int(\"min_samples_split\", 2, 20)\n",
    "    min_samples_leaf = trial.suggest_int(\"min_samples_leaf\", 1, 10)\n",
    "    max_depth = trial.suggest_int(\"max_depth\", 5, 50, step=5)\n",
    "    bootstrap = trial.suggest_categorical(\"bootstrap\", [True, False])\n",
    "\n",
    "    # Modèle\n",
    "    rf_model = RandomForestRegressor(\n",
    "        n_estimators=n_estimators,\n",
    "        min_samples_split=min_samples_split,\n",
    "        min_samples_leaf=min_samples_leaf,\n",
    "        max_depth=max_depth,\n",
    "        bootstrap=bootstrap,\n",
    "        random_state=42\n",
    "    )\n",
    "\n",
    "    # Validation croisée\n",
    "    scorer = make_scorer(mean_absolute_error, greater_is_better=False)\n",
    "    scores = cross_val_score(rf_model, X_train_reduced, y_train, scoring=scorer, cv=3)\n",
    "    return -1 * scores.mean()  # Optuna minimise, on inverse pour MAE\n",
    "\n",
    "# Étudier l'espace des hyperparamètres\n",
    "study_rf = optuna.create_study(direction=\"minimize\")\n",
    "study_rf.optimize(objective_rf, n_trials=50)\n",
    "\n",
    "# Meilleurs hyperparamètres pour Random Forest\n",
    "print(\"Meilleurs hyperparamètres pour Random Forest :\", study_rf.best_params)"
   ]
  },
  {
   "cell_type": "markdown",
   "metadata": {},
   "source": [
    "### Optimisation de Gradient Boosting"
   ]
  },
  {
   "cell_type": "code",
   "execution_count": 76,
   "metadata": {},
   "outputs": [
    {
     "name": "stderr",
     "output_type": "stream",
     "text": [
      "[I 2024-11-27 17:35:55,534] A new study created in memory with name: no-name-801946d5-ab25-46c0-95a4-14562448656b\n",
      "[I 2024-11-27 17:35:58,573] Trial 0 finished with value: 0.06668848259971823 and parameters: {'subsample': 0.8437395446221986, 'n_estimators': 800, 'min_samples_split': 16, 'min_samples_leaf': 2, 'max_depth': 15, 'learning_rate': 0.23175660853805627}. Best is trial 0 with value: 0.06668848259971823.\n",
      "[I 2024-11-27 17:36:03,846] Trial 1 finished with value: 0.06719068090114522 and parameters: {'subsample': 0.7487550352684591, 'n_estimators': 1000, 'min_samples_split': 5, 'min_samples_leaf': 6, 'max_depth': 10, 'learning_rate': 0.17712224112975597}. Best is trial 0 with value: 0.06668848259971823.\n",
      "[I 2024-11-27 17:36:07,280] Trial 2 finished with value: 0.06449779854021968 and parameters: {'subsample': 0.6013544458418405, 'n_estimators': 800, 'min_samples_split': 16, 'min_samples_leaf': 9, 'max_depth': 13, 'learning_rate': 0.02420834803887204}. Best is trial 2 with value: 0.06449779854021968.\n",
      "[I 2024-11-27 17:36:11,142] Trial 3 finished with value: 0.05789991997074958 and parameters: {'subsample': 0.5374533385831051, 'n_estimators': 950, 'min_samples_split': 19, 'min_samples_leaf': 6, 'max_depth': 14, 'learning_rate': 0.014714717266209248}. Best is trial 3 with value: 0.05789991997074958.\n",
      "[I 2024-11-27 17:36:14,554] Trial 4 finished with value: 0.0576027303433654 and parameters: {'subsample': 0.5467214130200064, 'n_estimators': 800, 'min_samples_split': 20, 'min_samples_leaf': 7, 'max_depth': 16, 'learning_rate': 0.02369725840266956}. Best is trial 4 with value: 0.0576027303433654.\n",
      "[I 2024-11-27 17:36:16,982] Trial 5 finished with value: 0.08349660049682806 and parameters: {'subsample': 0.8056917425485386, 'n_estimators': 500, 'min_samples_split': 10, 'min_samples_leaf': 10, 'max_depth': 8, 'learning_rate': 0.3108168933075336}. Best is trial 4 with value: 0.0576027303433654.\n",
      "[I 2024-11-27 17:36:19,818] Trial 6 finished with value: 0.05674734732321871 and parameters: {'subsample': 0.6481895355928764, 'n_estimators': 700, 'min_samples_split': 10, 'min_samples_leaf': 6, 'max_depth': 7, 'learning_rate': 0.07633245509205208}. Best is trial 6 with value: 0.05674734732321871.\n",
      "[I 2024-11-27 17:36:24,860] Trial 7 finished with value: 0.0701008011122105 and parameters: {'subsample': 0.9707284695601066, 'n_estimators': 750, 'min_samples_split': 11, 'min_samples_leaf': 8, 'max_depth': 11, 'learning_rate': 0.0386092329676858}. Best is trial 6 with value: 0.05674734732321871.\n",
      "[I 2024-11-27 17:36:27,804] Trial 8 finished with value: 0.09310911997200554 and parameters: {'subsample': 0.6573168133867673, 'n_estimators': 900, 'min_samples_split': 11, 'min_samples_leaf': 10, 'max_depth': 6, 'learning_rate': 0.3281740197485993}. Best is trial 6 with value: 0.05674734732321871.\n",
      "[I 2024-11-27 17:36:31,335] Trial 9 finished with value: 0.06023764211832159 and parameters: {'subsample': 0.7830510260664273, 'n_estimators': 1000, 'min_samples_split': 18, 'min_samples_leaf': 2, 'max_depth': 5, 'learning_rate': 0.01719319675513538}. Best is trial 6 with value: 0.05674734732321871.\n",
      "[I 2024-11-27 17:36:32,055] Trial 10 finished with value: 0.06488530384515225 and parameters: {'subsample': 0.6798982472056061, 'n_estimators': 300, 'min_samples_split': 2, 'min_samples_leaf': 4, 'max_depth': 3, 'learning_rate': 0.08303160075422747}. Best is trial 6 with value: 0.05674734732321871.\n",
      "[I 2024-11-27 17:36:34,575] Trial 11 finished with value: 0.05966540406785553 and parameters: {'subsample': 0.5031252481794075, 'n_estimators': 600, 'min_samples_split': 7, 'min_samples_leaf': 7, 'max_depth': 16, 'learning_rate': 0.07421789633326252}. Best is trial 6 with value: 0.05674734732321871.\n",
      "[I 2024-11-27 17:36:37,907] Trial 12 finished with value: 0.05365769871221444 and parameters: {'subsample': 0.6051397496091727, 'n_estimators': 550, 'min_samples_split': 14, 'min_samples_leaf': 4, 'max_depth': 19, 'learning_rate': 0.0428527829245226}. Best is trial 12 with value: 0.05365769871221444.\n",
      "[I 2024-11-27 17:36:41,560] Trial 13 finished with value: 0.060630410106111 and parameters: {'subsample': 0.6649730899116204, 'n_estimators': 500, 'min_samples_split': 13, 'min_samples_leaf': 4, 'max_depth': 20, 'learning_rate': 0.1279354702501595}. Best is trial 12 with value: 0.05365769871221444.\n",
      "[I 2024-11-27 17:36:43,288] Trial 14 finished with value: 0.053782407965583846 and parameters: {'subsample': 0.6074498549708308, 'n_estimators': 300, 'min_samples_split': 14, 'min_samples_leaf': 4, 'max_depth': 19, 'learning_rate': 0.045655938363813646}. Best is trial 12 with value: 0.05365769871221444.\n",
      "[I 2024-11-27 17:36:43,686] Trial 15 finished with value: 0.06526598631069828 and parameters: {'subsample': 0.5946785863289571, 'n_estimators': 100, 'min_samples_split': 14, 'min_samples_leaf': 4, 'max_depth': 20, 'learning_rate': 0.04016275673313481}. Best is trial 12 with value: 0.05365769871221444.\n",
      "[I 2024-11-27 17:36:46,079] Trial 16 finished with value: 0.05501505376907843 and parameters: {'subsample': 0.7109486576288411, 'n_estimators': 350, 'min_samples_split': 14, 'min_samples_leaf': 1, 'max_depth': 18, 'learning_rate': 0.03847650421081214}. Best is trial 12 with value: 0.05365769871221444.\n",
      "[I 2024-11-27 17:36:48,587] Trial 17 finished with value: 0.0642469514100703 and parameters: {'subsample': 0.8965199182700244, 'n_estimators': 300, 'min_samples_split': 17, 'min_samples_leaf': 3, 'max_depth': 17, 'learning_rate': 0.04793331443769454}. Best is trial 12 with value: 0.05365769871221444.\n",
      "[I 2024-11-27 17:36:49,137] Trial 18 finished with value: 0.058171832062456186 and parameters: {'subsample': 0.5925597986781187, 'n_estimators': 100, 'min_samples_split': 7, 'min_samples_leaf': 5, 'max_depth': 18, 'learning_rate': 0.12385296389555611}. Best is trial 12 with value: 0.05365769871221444.\n",
      "[I 2024-11-27 17:36:51,011] Trial 19 finished with value: 0.05883555877282084 and parameters: {'subsample': 0.7296223834191202, 'n_estimators': 400, 'min_samples_split': 14, 'min_samples_leaf': 3, 'max_depth': 20, 'learning_rate': 0.011792949242558786}. Best is trial 12 with value: 0.05365769871221444.\n",
      "[I 2024-11-27 17:36:51,776] Trial 20 finished with value: 0.06182511079236088 and parameters: {'subsample': 0.5631303038100272, 'n_estimators': 200, 'min_samples_split': 8, 'min_samples_leaf': 5, 'max_depth': 13, 'learning_rate': 0.023256054789029108}. Best is trial 12 with value: 0.05365769871221444.\n",
      "[I 2024-11-27 17:36:54,522] Trial 21 finished with value: 0.05713185036185528 and parameters: {'subsample': 0.7042326194791215, 'n_estimators': 400, 'min_samples_split': 13, 'min_samples_leaf': 1, 'max_depth': 18, 'learning_rate': 0.047492462750052485}. Best is trial 12 with value: 0.05365769871221444.\n",
      "[I 2024-11-27 17:36:56,580] Trial 22 finished with value: 0.05223380798736693 and parameters: {'subsample': 0.605927755951942, 'n_estimators': 350, 'min_samples_split': 15, 'min_samples_leaf': 1, 'max_depth': 18, 'learning_rate': 0.03369285216636981}. Best is trial 22 with value: 0.05223380798736693.\n",
      "[I 2024-11-27 17:37:00,594] Trial 23 finished with value: 0.05520665702105996 and parameters: {'subsample': 0.6229558942662516, 'n_estimators': 600, 'min_samples_split': 16, 'min_samples_leaf': 3, 'max_depth': 19, 'learning_rate': 0.06267804733049169}. Best is trial 22 with value: 0.05223380798736693.\n",
      "[I 2024-11-27 17:37:01,361] Trial 24 finished with value: 0.05369322581462801 and parameters: {'subsample': 0.5020960755341077, 'n_estimators': 200, 'min_samples_split': 15, 'min_samples_leaf': 2, 'max_depth': 16, 'learning_rate': 0.029960090083904833}. Best is trial 22 with value: 0.05223380798736693.\n",
      "[I 2024-11-27 17:37:02,127] Trial 25 finished with value: 0.05574410495741685 and parameters: {'subsample': 0.5231959657360633, 'n_estimators': 200, 'min_samples_split': 18, 'min_samples_leaf': 2, 'max_depth': 16, 'learning_rate': 0.028401631125375415}. Best is trial 22 with value: 0.05223380798736693.\n",
      "[I 2024-11-27 17:37:02,936] Trial 26 finished with value: 0.05307755627597679 and parameters: {'subsample': 0.5038298348145487, 'n_estimators': 200, 'min_samples_split': 12, 'min_samples_leaf': 1, 'max_depth': 15, 'learning_rate': 0.03011448062079624}. Best is trial 22 with value: 0.05223380798736693.\n",
      "[I 2024-11-27 17:37:05,127] Trial 27 finished with value: 0.051733501205542425 and parameters: {'subsample': 0.5690177510704582, 'n_estimators': 450, 'min_samples_split': 12, 'min_samples_leaf': 1, 'max_depth': 14, 'learning_rate': 0.019848925935555213}. Best is trial 27 with value: 0.051733501205542425.\n",
      "[I 2024-11-27 17:37:07,113] Trial 28 finished with value: 0.05094935584820085 and parameters: {'subsample': 0.5662029210636995, 'n_estimators': 450, 'min_samples_split': 12, 'min_samples_leaf': 1, 'max_depth': 12, 'learning_rate': 0.017983957575005437}. Best is trial 28 with value: 0.05094935584820085.\n",
      "[I 2024-11-27 17:37:08,925] Trial 29 finished with value: 0.05392032568195532 and parameters: {'subsample': 0.5685049839488104, 'n_estimators': 450, 'min_samples_split': 9, 'min_samples_leaf': 1, 'max_depth': 10, 'learning_rate': 0.01048064892951318}. Best is trial 28 with value: 0.05094935584820085.\n",
      "[I 2024-11-27 17:37:12,219] Trial 30 finished with value: 0.05174097071613712 and parameters: {'subsample': 0.6337487922207028, 'n_estimators': 600, 'min_samples_split': 5, 'min_samples_leaf': 2, 'max_depth': 12, 'learning_rate': 0.01648261008460709}. Best is trial 28 with value: 0.05094935584820085.\n",
      "[I 2024-11-27 17:37:15,692] Trial 31 finished with value: 0.05613491450639208 and parameters: {'subsample': 0.6402932024704922, 'n_estimators': 600, 'min_samples_split': 4, 'min_samples_leaf': 1, 'max_depth': 12, 'learning_rate': 0.0162337752518226}. Best is trial 28 with value: 0.05094935584820085.\n",
      "[I 2024-11-27 17:37:17,520] Trial 32 finished with value: 0.05160674687463568 and parameters: {'subsample': 0.5550768989322623, 'n_estimators': 450, 'min_samples_split': 12, 'min_samples_leaf': 2, 'max_depth': 9, 'learning_rate': 0.01783783901796272}. Best is trial 28 with value: 0.05094935584820085.\n",
      "[I 2024-11-27 17:37:20,270] Trial 33 finished with value: 0.050350930360504566 and parameters: {'subsample': 0.5753685024263423, 'n_estimators': 650, 'min_samples_split': 12, 'min_samples_leaf': 2, 'max_depth': 9, 'learning_rate': 0.018048652206728872}. Best is trial 33 with value: 0.050350930360504566.\n",
      "[I 2024-11-27 17:37:23,110] Trial 34 finished with value: 0.052672262864780696 and parameters: {'subsample': 0.557340338421782, 'n_estimators': 700, 'min_samples_split': 12, 'min_samples_leaf': 3, 'max_depth': 9, 'learning_rate': 0.012907729667279214}. Best is trial 33 with value: 0.050350930360504566.\n",
      "[I 2024-11-27 17:37:25,302] Trial 35 finished with value: 0.051748766264579825 and parameters: {'subsample': 0.5725300610106967, 'n_estimators': 500, 'min_samples_split': 12, 'min_samples_leaf': 2, 'max_depth': 10, 'learning_rate': 0.020670169672350802}. Best is trial 33 with value: 0.050350930360504566.\n",
      "[I 2024-11-27 17:37:27,360] Trial 36 finished with value: 0.05058606592911095 and parameters: {'subsample': 0.5308304067769158, 'n_estimators': 450, 'min_samples_split': 10, 'min_samples_leaf': 3, 'max_depth': 14, 'learning_rate': 0.020453341375203958}. Best is trial 33 with value: 0.050350930360504566.\n",
      "[I 2024-11-27 17:37:29,713] Trial 37 finished with value: 0.05021789858344599 and parameters: {'subsample': 0.5322659491850639, 'n_estimators': 650, 'min_samples_split': 9, 'min_samples_leaf': 3, 'max_depth': 8, 'learning_rate': 0.013765658845707063}. Best is trial 37 with value: 0.05021789858344599.\n",
      "[I 2024-11-27 17:37:32,354] Trial 38 finished with value: 0.05033712751016519 and parameters: {'subsample': 0.5367143052328482, 'n_estimators': 700, 'min_samples_split': 9, 'min_samples_leaf': 3, 'max_depth': 8, 'learning_rate': 0.013949820962619904}. Best is trial 37 with value: 0.05021789858344599.\n",
      "[I 2024-11-27 17:37:35,242] Trial 39 finished with value: 0.05100600192124317 and parameters: {'subsample': 0.5295113052530943, 'n_estimators': 850, 'min_samples_split': 9, 'min_samples_leaf': 3, 'max_depth': 7, 'learning_rate': 0.010050200863298619}. Best is trial 37 with value: 0.05021789858344599.\n",
      "[I 2024-11-27 17:37:37,149] Trial 40 finished with value: 0.10481769975171662 and parameters: {'subsample': 0.5337972973199916, 'n_estimators': 700, 'min_samples_split': 10, 'min_samples_leaf': 5, 'max_depth': 5, 'learning_rate': 0.4523586438309692}. Best is trial 37 with value: 0.05021789858344599.\n",
      "[I 2024-11-27 17:37:39,578] Trial 41 finished with value: 0.04947017913694044 and parameters: {'subsample': 0.529683903424518, 'n_estimators': 650, 'min_samples_split': 8, 'min_samples_leaf': 3, 'max_depth': 8, 'learning_rate': 0.013618553480377082}. Best is trial 41 with value: 0.04947017913694044.\n",
      "[I 2024-11-27 17:37:42,391] Trial 42 finished with value: 0.04909371294956174 and parameters: {'subsample': 0.5283302904558163, 'n_estimators': 750, 'min_samples_split': 7, 'min_samples_leaf': 3, 'max_depth': 8, 'learning_rate': 0.012655913543589569}. Best is trial 42 with value: 0.04909371294956174.\n",
      "[I 2024-11-27 17:37:46,471] Trial 43 finished with value: 0.06155018280734984 and parameters: {'subsample': 0.858763763097683, 'n_estimators': 750, 'min_samples_split': 7, 'min_samples_leaf': 3, 'max_depth': 8, 'learning_rate': 0.01387875261222472}. Best is trial 42 with value: 0.04909371294956174.\n",
      "[I 2024-11-27 17:37:48,675] Trial 44 finished with value: 0.05245483960579748 and parameters: {'subsample': 0.529550805143068, 'n_estimators': 650, 'min_samples_split': 6, 'min_samples_leaf': 4, 'max_depth': 7, 'learning_rate': 0.012421137883632718}. Best is trial 42 with value: 0.04909371294956174.\n",
      "[I 2024-11-27 17:37:53,196] Trial 45 finished with value: 0.06686338077429134 and parameters: {'subsample': 0.9769656129281008, 'n_estimators': 800, 'min_samples_split': 8, 'min_samples_leaf': 6, 'max_depth': 8, 'learning_rate': 0.013961848435221252}. Best is trial 42 with value: 0.04909371294956174.\n",
      "[I 2024-11-27 17:37:55,567] Trial 46 finished with value: 0.05553456419899561 and parameters: {'subsample': 0.5862882102799465, 'n_estimators': 750, 'min_samples_split': 9, 'min_samples_leaf': 5, 'max_depth': 6, 'learning_rate': 0.025335906661092575}. Best is trial 42 with value: 0.04909371294956174.\n",
      "[I 2024-11-27 17:37:59,569] Trial 47 finished with value: 0.061821385594304744 and parameters: {'subsample': 0.7752125862038014, 'n_estimators': 850, 'min_samples_split': 4, 'min_samples_leaf': 7, 'max_depth': 9, 'learning_rate': 0.011646166948789819}. Best is trial 42 with value: 0.04909371294956174.\n",
      "[I 2024-11-27 17:38:01,160] Trial 48 finished with value: 0.06099747486137471 and parameters: {'subsample': 0.5157505316961793, 'n_estimators': 650, 'min_samples_split': 8, 'min_samples_leaf': 4, 'max_depth': 4, 'learning_rate': 0.01450214106834354}. Best is trial 42 with value: 0.04909371294956174.\n",
      "[I 2024-11-27 17:38:04,011] Trial 49 finished with value: 0.04827677396536063 and parameters: {'subsample': 0.5381214068840496, 'n_estimators': 650, 'min_samples_split': 6, 'min_samples_leaf': 2, 'max_depth': 11, 'learning_rate': 0.010090829507209726}. Best is trial 49 with value: 0.04827677396536063.\n"
     ]
    },
    {
     "name": "stdout",
     "output_type": "stream",
     "text": [
      "Meilleurs hyperparamètres pour Gradient Boosting : {'subsample': 0.5381214068840496, 'n_estimators': 650, 'min_samples_split': 6, 'min_samples_leaf': 2, 'max_depth': 11, 'learning_rate': 0.010090829507209726}\n"
     ]
    }
   ],
   "source": [
    "from sklearn.ensemble import GradientBoostingRegressor\n",
    "\n",
    "# Fonction d'objectif pour le tuning de Gradient Boosting\n",
    "def objective_gb(trial):\n",
    "    # Hyperparamètres à optimiser\n",
    "    subsample = trial.suggest_float(\"subsample\", 0.5, 1.0)\n",
    "    n_estimators = trial.suggest_int(\"n_estimators\", 100, 1000, step=50)\n",
    "    min_samples_split = trial.suggest_int(\"min_samples_split\", 2, 20)\n",
    "    min_samples_leaf = trial.suggest_int(\"min_samples_leaf\", 1, 10)\n",
    "    max_depth = trial.suggest_int(\"max_depth\", 3, 20)\n",
    "    learning_rate = trial.suggest_float(\"learning_rate\", 0.01, 0.5, log=True)\n",
    "\n",
    "    # Modèle\n",
    "    gb_model = GradientBoostingRegressor(\n",
    "        subsample=subsample,\n",
    "        n_estimators=n_estimators,\n",
    "        min_samples_split=min_samples_split,\n",
    "        min_samples_leaf=min_samples_leaf,\n",
    "        max_depth=max_depth,\n",
    "        learning_rate=learning_rate,\n",
    "        \n",
    "        random_state=42\n",
    "    )\n",
    "\n",
    "    # Validation croisée\n",
    "    scorer = make_scorer(mean_absolute_error, greater_is_better=False)\n",
    "    scores = cross_val_score(gb_model, X_train_reduced, y_train, scoring=scorer, cv=3)\n",
    "    return -1 * scores.mean()  # Optuna minimise, on inverse pour MAE\n",
    "\n",
    "# Étudier l'espace des hyperparamètres\n",
    "study_gb = optuna.create_study(direction=\"minimize\")\n",
    "study_gb.optimize(objective_gb, n_trials=50)\n",
    "\n",
    "# Meilleurs hyperparamètres pour Gradient Boosting\n",
    "print(\"Meilleurs hyperparamètres pour Gradient Boosting :\", study_gb.best_params)"
   ]
  },
  {
   "cell_type": "code",
   "execution_count": 77,
   "metadata": {},
   "outputs": [
    {
     "name": "stdout",
     "output_type": "stream",
     "text": [
      "--- Forêt Aléatoire (Optimisée) ---\n",
      "MAE : 143951.11\n",
      "MSE : 222567908409.23\n",
      "R² : 0.98\n",
      "\n",
      "--- Gradient Boosting (Optimisé) ---\n",
      "MAE : 98238.23\n",
      "MSE : 133159560318.23\n",
      "R² : 0.99\n",
      "\n"
     ]
    }
   ],
   "source": [
    "# Réentraînement de la Forêt Aléatoire avec les meilleurs hyperparamètres\n",
    "rf_model_optimized = RandomForestRegressor(\n",
    "    n_estimators=900,\n",
    "    min_samples_split=2,\n",
    "    min_samples_leaf=1,\n",
    "    max_depth=20,\n",
    "    bootstrap=True,\n",
    "    random_state=42\n",
    ")\n",
    "rf_model_optimized.fit(X_train_reduced, y_train)\n",
    "\n",
    "# Évaluation de la Forêt Aléatoire optimisée\n",
    "evaluate_model(rf_model_optimized, X_test_reduced, y_test, \"Forêt Aléatoire (Optimisée)\")\n",
    "\n",
    "# Réentraînement du Gradient Boosting avec les meilleurs hyperparamètres\n",
    "gb_model_optimized = GradientBoostingRegressor(\n",
    "    subsample=0.5381214068840496,\n",
    "    n_estimators=650,\n",
    "    min_samples_split=6,\n",
    "    min_samples_leaf=2,\n",
    "    max_depth=11,\n",
    "    learning_rate=0.010090829507209726,\n",
    "    random_state=42\n",
    ")\n",
    "gb_model_optimized.fit(X_train_reduced, y_train)\n",
    "\n",
    "# Évaluation du Gradient Boosting optimisé\n",
    "evaluate_model(gb_model_optimized, X_test_reduced, y_test, \"Gradient Boosting (Optimisé)\")"
   ]
  },
  {
   "cell_type": "markdown",
   "metadata": {},
   "source": [
    "# Interprétation des résultats :"
   ]
  },
  {
   "cell_type": "markdown",
   "metadata": {},
   "source": [
    "### Comparaison des MAE, MSE et R² avec les résultats avant optimisation"
   ]
  },
  {
   "cell_type": "markdown",
   "metadata": {},
   "source": [
    "# Comparaison des Performances : Modèles Initiaux vs Optimisés\n",
    "\n",
    "| Modèle                  | Étape              | MAE (kWh)       | MSE (kWh²)           | R²    |\n",
    "|-------------------------|--------------------|-----------------|----------------------|-------|\n",
    "| **Forêt Aléatoire**     | Initial            | 139,981.53      | 211,846,501,232.89   | 0.98  |\n",
    "| **Forêt Aléatoire**     | Optimisé           | 143,951.11      | 222,567,908,409.23   | 0.98  |\n",
    "| **Gradient Boosting**   | Initial            | 189,401.98      | 450,109,658,121.40   | 0.95  |\n",
    "| **Gradient Boosting**   | Optimisé           | **98,238.23**   | **133,159,560,318.23** | **0.99** |\n",
    "\n",
    "---\n",
    "\n",
    "## **Analyse des Résultats**\n",
    "\n",
    "### **Forêt Aléatoire :**\n",
    "- **MAE :** Légère augmentation de l'erreur moyenne absolue après optimisation (+4,000 kWh).\n",
    "- **MSE :** Augmentation minime du MSE, indiquant des erreurs plus significatives dans certaines prédictions.\n",
    "- **R² :** Performances stables avec un R² maintenu à **0.98**, reflétant une excellente capacité explicative.\n",
    "\n",
    "### **Gradient Boosting :**\n",
    "- **MAE :** Réduction significative de l'erreur moyenne absolue (-91,164 kWh), indiquant une meilleure précision globale.\n",
    "- **MSE :** Forte amélioration du MSE (-316,950,097,803 kWh²), ce qui reflète une réduction des erreurs majeures.\n",
    "- **R² :** Amélioration notable à **0.99**, suggérant que le modèle optimisé capture mieux la variance des données.\n",
    "\n",
    "---\n",
    "\n",
    "## **Conclusion**\n",
    "- L'optimisation a eu un **impact significatif** sur les performances du modèle **Gradient Boosting**, avec une réduction importante des erreurs et une meilleure capacité explicative.\n",
    "- Pour le modèle **Forêt Aléatoire**, les résultats sont restés stables, avec une légère augmentation des erreurs.\n"
   ]
  },
  {
   "cell_type": "markdown",
   "metadata": {},
   "source": [
    "# Validation croisée des modèles optimisés"
   ]
  },
  {
   "cell_type": "code",
   "execution_count": 78,
   "metadata": {},
   "outputs": [
    {
     "name": "stdout",
     "output_type": "stream",
     "text": [
      "Validation croisée (MAE moyen) pour Forêt Aléatoire (Optimisée) : 0.07\n",
      "Validation croisée (MAE moyen) pour Gradient Boosting (Optimisé) : 0.05\n"
     ]
    }
   ],
   "source": [
    "from sklearn.model_selection import cross_val_score\n",
    "\n",
    "def cross_validate_model(model, X, y, model_name):\n",
    "    # Validation croisée sur 5 plis (5-fold cross-validation)\n",
    "    scores = cross_val_score(model, X, y, cv=5, scoring=\"neg_mean_absolute_error\")\n",
    "    mean_score = -np.mean(scores)  # MAE est négatif, on inverse pour avoir un score positif\n",
    "    print(f\"Validation croisée (MAE moyen) pour {model_name} : {mean_score:.2f}\")\n",
    "\n",
    "# Validation croisée sur les modèles optimisés\n",
    "cross_validate_model(rf_model_optimized, X_train_reduced, y_train, \"Forêt Aléatoire (Optimisée)\")\n",
    "cross_validate_model(gb_model_optimized, X_train_reduced, y_train, \"Gradient Boosting (Optimisé)\")"
   ]
  },
  {
   "cell_type": "markdown",
   "metadata": {},
   "source": [
    "# Validation Croisée : Comparaison des MAE Moyens\n",
    "\n",
    "| Modèle                  | Étape              | MAE Moyen (Validation Croisée) |\n",
    "|-------------------------|--------------------|---------------------------------|\n",
    "| **Forêt Aléatoire**     | Initial            | 0.07                           |\n",
    "| **Forêt Aléatoire**     | Optimisé           | 0.07                           |\n",
    "| **Gradient Boosting**   | Initial            | 0.06                           |\n",
    "| **Gradient Boosting**   | Optimisé           | **0.05**                       |\n",
    "\n",
    "---\n",
    "\n",
    "## **Analyse des Résultats**\n",
    "\n",
    "### **Forêt Aléatoire :**\n",
    "- **MAE Moyen (Validation Croisée) :** Les performances restent constantes avant et après l'optimisation, avec un MAE moyen de **0.07**, ce qui indique une robustesse mais peu d'améliorations dues à l'optimisation.\n",
    "\n",
    "### **Gradient Boosting :**\n",
    "- **MAE Moyen (Validation Croisée) :** Amélioration notable du MAE moyen après optimisation, passant de **0.06** à **0.05**. Cette réduction montre que l'optimisation a permis une meilleure généralisation et précision sur des données non vues.\n",
    "\n",
    "---\n",
    "\n",
    "## **Conclusion**\n",
    "- L'optimisation a eu un **impact significatif** sur les performances du modèle **Gradient Boosting**, réduisant son MAE moyen en validation croisée.\n",
    "- Le modèle **Forêt Aléatoire** maintient des performances stables."
   ]
  },
  {
   "cell_type": "code",
   "execution_count": 79,
   "metadata": {},
   "outputs": [],
   "source": [
    "import joblib\n",
    "\n",
    "# Sauvegarde des modèles\n",
    "joblib.dump(rf_model_optimized, \"random_forest_model.pkl\")\n",
    "joblib.dump(gb_model_optimized, \"gradient_boosting_model.pkl\")\n",
    "\n",
    "# Chargement des modèles sauvegardés\n",
    "rf_model_loaded = joblib.load(\"random_forest_model.pkl\")\n",
    "gb_model_loaded = joblib.load(\"gradient_boosting_model.pkl\")"
   ]
  }
 ],
 "metadata": {
  "kernelspec": {
   "display_name": "__venv",
   "language": "python",
   "name": "python3"
  },
  "language_info": {
   "codemirror_mode": {
    "name": "ipython",
    "version": 3
   },
   "file_extension": ".py",
   "mimetype": "text/x-python",
   "name": "python",
   "nbconvert_exporter": "python",
   "pygments_lexer": "ipython3",
   "version": "3.12.4"
  }
 },
 "nbformat": 4,
 "nbformat_minor": 2
}
