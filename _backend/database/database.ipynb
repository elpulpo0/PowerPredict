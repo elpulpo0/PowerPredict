{
 "cells": [
  {
   "cell_type": "code",
   "execution_count": 2,
   "metadata": {},
   "outputs": [
    {
     "name": "stdout",
     "output_type": "stream",
     "text": [
      "(18647, 10)\n",
      "       annee_consommation zone_climatique code_region  nom_region  \\\n",
      "0  0 - année de référence             GUA          01  Guadeloupe   \n",
      "1  0 - année de référence             GUA          01  Guadeloupe   \n",
      "2  0 - année de référence             GUA          01  Guadeloupe   \n",
      "3  0 - année de référence             GUA          01  Guadeloupe   \n",
      "4  0 - année de référence             GUA          01  Guadeloupe   \n",
      "\n",
      "  code_departement nom_departement   nom_commune  nombre_declaration  \\\n",
      "0              971      Guadeloupe  BAIE MAHAULT                  86   \n",
      "1              971      Guadeloupe       BAILLIF                   7   \n",
      "2              971      Guadeloupe   BASSE TERRE                   4   \n",
      "3              971      Guadeloupe    LES ABYMES                  34   \n",
      "4              971      Guadeloupe   PETIT BOURG                  13   \n",
      "\n",
      "   surface_declaree  consommation_declaree  \n",
      "0            205643               38442621  \n",
      "1              8815                1287317  \n",
      "2              4024                 699468  \n",
      "3             88040               20281219  \n",
      "4             14890                1302881  \n"
     ]
    }
   ],
   "source": [
    "import pandas as pd\n",
    "\n",
    "df_commune = pd.read_csv(\"operat_geographie_open_data.csv\")\n",
    "df_vecteur = pd.read_csv(\"operat_open_data_vecteurs.csv\")\n",
    "\n",
    "print(df_commune.shape)\n",
    "print(df_commune.head())"
   ]
  },
  {
   "cell_type": "code",
   "execution_count": 18,
   "metadata": {},
   "outputs": [
    {
     "name": "stdout",
     "output_type": "stream",
     "text": [
      "(42244, 9)\n",
      "       annee_consommation zone_climatique code_region  nom_region  \\\n",
      "0  0 - année de référence             GUA          01  Guadeloupe   \n",
      "1  0 - année de référence             GUA          01  Guadeloupe   \n",
      "2  0 - année de référence             GUA          01  Guadeloupe   \n",
      "3  0 - année de référence             GUA          01  Guadeloupe   \n",
      "4  0 - année de référence             GUA          01  Guadeloupe   \n",
      "\n",
      "  code_departement nom_departement   nom_commune vecteur_energie  \\\n",
      "0              971      Guadeloupe  BAIE MAHAULT     Electricite   \n",
      "1              971      Guadeloupe       BAILLIF     Electricite   \n",
      "2              971      Guadeloupe   BASSE TERRE     Electricite   \n",
      "3              971      Guadeloupe      LAMENTIN     Electricite   \n",
      "4              971      Guadeloupe    LES ABYMES     Electricite   \n",
      "\n",
      "   consommation_declaree  \n",
      "0               38442621  \n",
      "1                1287317  \n",
      "2                 699468  \n",
      "3                2058509  \n",
      "4               20281219  \n"
     ]
    }
   ],
   "source": [
    "print(df_vecteur.shape)\n",
    "print(df_vecteur.head())"
   ]
  },
  {
   "cell_type": "code",
   "execution_count": 3,
   "metadata": {},
   "outputs": [
    {
     "name": "stdout",
     "output_type": "stream",
     "text": [
      "annee_consommation\n",
      "2021                      5137\n",
      "2020                      4968\n",
      "0 - année de référence    4414\n",
      "2022                      4128\n",
      "Name: count, dtype: int64\n"
     ]
    }
   ],
   "source": [
    "print(df_commune[\"annee_consommation\"].value_counts())"
   ]
  },
  {
   "cell_type": "code",
   "execution_count": 4,
   "metadata": {},
   "outputs": [
    {
     "name": "stdout",
     "output_type": "stream",
     "text": [
      "annee_consommation\n",
      "2021                  5137\n",
      "2020                  4968\n",
      "Année de référence    4414\n",
      "2022                  4128\n",
      "Name: count, dtype: int64\n"
     ]
    }
   ],
   "source": [
    "df_commune[\"annee_consommation\"] = df_commune[\"annee_consommation\"].replace(\"0 - année de référence\", \"Année de référence\")\n",
    "print(df_commune[\"annee_consommation\"].value_counts())"
   ]
  },
  {
   "cell_type": "code",
   "execution_count": 9,
   "metadata": {},
   "outputs": [
    {
     "name": "stdout",
     "output_type": "stream",
     "text": [
      "Valeurs uniques et leur type :\n",
      "Valeur: Année de référence, Type: <class 'str'>\n",
      "Valeur: 2020, Type: <class 'str'>\n",
      "Valeur: 2021, Type: <class 'str'>\n",
      "Valeur: 2022, Type: <class 'str'>\n"
     ]
    }
   ],
   "source": [
    "# Afficher les valeurs uniques avec leur type\n",
    "unique_values = df_commune['annee_consommation'].unique()\n",
    "print(\"Valeurs uniques et leur type :\")\n",
    "for value in unique_values:\n",
    "    print(f\"Valeur: {value}, Type: {type(value)}\")"
   ]
  },
  {
   "cell_type": "code",
   "execution_count": 14,
   "metadata": {},
   "outputs": [
    {
     "name": "stdout",
     "output_type": "stream",
     "text": [
      "zone_climatique\n",
      "H1a    4789\n",
      "H1c    3468\n",
      "H2b    2461\n",
      "H1b    2185\n",
      "H2c    2121\n",
      "H3     1595\n",
      "H2a    1362\n",
      "H2d     500\n",
      "REU      67\n",
      "GUA      40\n",
      "MAR      28\n",
      "GUY      18\n",
      "MAY      11\n",
      "ND        2\n",
      "Name: count, dtype: int64\n"
     ]
    }
   ],
   "source": [
    "print(df_commune[\"zone_climatique\"].value_counts())"
   ]
  },
  {
   "cell_type": "code",
   "execution_count": 16,
   "metadata": {},
   "outputs": [
    {
     "name": "stdout",
     "output_type": "stream",
     "text": [
      "zone_climatique\n",
      "H1a    4789\n",
      "H1c    3468\n",
      "H2b    2461\n",
      "H1b    2185\n",
      "H2c    2121\n",
      "H3     1595\n",
      "H2a    1362\n",
      "H2d     500\n",
      "REU      67\n",
      "GUA      40\n",
      "MAR      28\n",
      "GUY      18\n",
      "MAY      11\n",
      "Name: count, dtype: int64\n"
     ]
    }
   ],
   "source": [
    "nd_remove = df_commune[df_commune[\"zone_climatique\"] == \"ND\"].index\n",
    "\n",
    "df_commune = df_commune.drop(nd_remove)\n",
    "print(df_commune[\"zone_climatique\"].value_counts())"
   ]
  },
  {
   "cell_type": "code",
   "execution_count": 17,
   "metadata": {},
   "outputs": [
    {
     "name": "stdout",
     "output_type": "stream",
     "text": [
      "code_region\n",
      "84    2653\n",
      "11    2168\n",
      "75    2094\n",
      "32    1703\n",
      "76    1667\n",
      "44    1609\n",
      "52    1322\n",
      "53    1183\n",
      "93    1103\n",
      "27    1058\n",
      "28    1047\n",
      "24     783\n",
      "04      67\n",
      "94      61\n",
      "01      38\n",
      "ND      33\n",
      "02      25\n",
      "03      18\n",
      "06      11\n",
      "00       2\n",
      "Name: count, dtype: int64\n"
     ]
    }
   ],
   "source": [
    "print(df_commune[\"code_region\"].value_counts())"
   ]
  },
  {
   "cell_type": "code",
   "execution_count": 21,
   "metadata": {},
   "outputs": [
    {
     "name": "stdout",
     "output_type": "stream",
     "text": [
      "code_region\n",
      "84    2653\n",
      "11    2168\n",
      "75    2094\n",
      "32    1703\n",
      "76    1667\n",
      "44    1609\n",
      "52    1322\n",
      "53    1183\n",
      "93    1103\n",
      "27    1058\n",
      "28    1047\n",
      "24     783\n",
      "04      67\n",
      "94      61\n",
      "01      38\n",
      "02      25\n",
      "03      18\n",
      "06      11\n",
      "00       2\n",
      "Name: count, dtype: int64\n"
     ]
    }
   ],
   "source": [
    "nd_remove = df_commune[df_commune[\"code_region\"] == \"ND\"].index\n",
    "\n",
    "df_commune = df_commune.drop(nd_remove)\n",
    "print(df_commune[\"code_region\"].value_counts())"
   ]
  },
  {
   "cell_type": "code",
   "execution_count": 22,
   "metadata": {},
   "outputs": [
    {
     "name": "stdout",
     "output_type": "stream",
     "text": [
      "nom_region\n",
      "Auvergne-Rhône-Alpes          2653\n",
      "Île-de-France                 2168\n",
      "Nouvelle-Aquitaine            2094\n",
      "Hauts-de-France               1703\n",
      "Occitanie                     1667\n",
      "Grand-Est                     1609\n",
      "Pays de la Loire              1322\n",
      "Bretagne                      1183\n",
      "Provence-Alpes-Côte d'Azur    1103\n",
      "Bourgogne-Franche-Comté       1058\n",
      "Normandie                     1047\n",
      "Centre-Val de Loire            783\n",
      "La Réunion                      67\n",
      "Corse                           61\n",
      "Guadeloupe                      38\n",
      "Martinique                      25\n",
      "Guyane                          18\n",
      "Mayotte                         11\n",
      "Collectivités d'Outre-Mer        2\n",
      "Name: count, dtype: int64\n"
     ]
    }
   ],
   "source": [
    "print(df_commune[\"nom_region\"].value_counts())"
   ]
  },
  {
   "cell_type": "code",
   "execution_count": 39,
   "metadata": {},
   "outputs": [
    {
     "name": "stdout",
     "output_type": "stream",
     "text": [
      "(18612,)\n",
      "['971' '973' '75' '77' '78' '91' '92' '93' '94' '95' '28' '14' '27' '50'\n",
      " '61' '76' '02' '59' '60' '62' '80' '51' '88' '44' '53' '72' '35' '56'\n",
      " '31' '69' '06' '45' '25' '58' '70' '89' '90' '08' '10' '52' '54' '55'\n",
      " '57' '67' '68' '21' '39' '71' '22' '19' '23' '24' '33' '87' '01' '03'\n",
      " '07' '15' '26' '38' '42' '43' '63' '73' '74' '05' '13' '29' '18' '36'\n",
      " '37' '41' '49' '85' '16' '17' '79' '86' '40' '47' '64' '09' '12' '32'\n",
      " '46' '65' '81' '82' '48' '04' '84' '11' '30' '34' '66' '83' '2A' '2B'\n",
      " '972' '976' '974' '978' 'ND']\n",
      "154\n"
     ]
    }
   ],
   "source": [
    "print(df_commune[\"code_departement\"].shape)\n",
    "print(df_commune[\"code_departement\"].unique())\n",
    "print(df_commune[\"code_departement\"].value_counts().get(\"ND\", 0))"
   ]
  },
  {
   "cell_type": "code",
   "execution_count": 41,
   "metadata": {},
   "outputs": [
    {
     "name": "stdout",
     "output_type": "stream",
     "text": [
      "(18458,)\n",
      "['971' '973' '75' '77' '78' '91' '92' '93' '94' '95' '28' '14' '27' '50'\n",
      " '61' '76' '02' '59' '60' '62' '80' '51' '88' '44' '53' '72' '35' '56'\n",
      " '31' '69' '06' '45' '25' '58' '70' '89' '90' '08' '10' '52' '54' '55'\n",
      " '57' '67' '68' '21' '39' '71' '22' '19' '23' '24' '33' '87' '01' '03'\n",
      " '07' '15' '26' '38' '42' '43' '63' '73' '74' '05' '13' '29' '18' '36'\n",
      " '37' '41' '49' '85' '16' '17' '79' '86' '40' '47' '64' '09' '12' '32'\n",
      " '46' '65' '81' '82' '48' '04' '84' '11' '30' '34' '66' '83' '2A' '2B'\n",
      " '972' '976' '974' '978']\n",
      "code_departement\n",
      "59     639\n",
      "44     472\n",
      "62     466\n",
      "33     457\n",
      "69     456\n",
      "      ... \n",
      "48      25\n",
      "972     25\n",
      "973     18\n",
      "976     11\n",
      "978      1\n",
      "Name: count, Length: 102, dtype: int64\n"
     ]
    }
   ],
   "source": [
    "nd_remove = df_commune[df_commune[\"code_departement\"] == \"ND\"].index\n",
    "\n",
    "df_commune = df_commune.drop(nd_remove)\n",
    "print(df_commune[\"code_departement\"].shape)\n",
    "print(df_commune[\"code_departement\"].unique())\n",
    "print(df_commune[\"code_departement\"].value_counts())"
   ]
  },
  {
   "cell_type": "code",
   "execution_count": 43,
   "metadata": {},
   "outputs": [
    {
     "name": "stdout",
     "output_type": "stream",
     "text": [
      "(18458,)\n",
      "['Guadeloupe' 'Guyane' 'Paris' 'Seine-et-Marne' 'Yvelines' 'Essonne'\n",
      " 'Hauts-de-Seine' 'Seine-Saint-Denis' 'Val-de-Marne' \"Val-d'Oise\"\n",
      " 'Eure-et-Loir' 'Calvados' 'Eure' 'Manche' 'Orne' 'Seine-Maritime' 'Aisne'\n",
      " 'Nord' 'Oise' 'Pas-de-Calais' 'Somme' 'Marne' 'Vosges' 'Loire-Atlantique'\n",
      " 'Mayenne' 'Sarthe' 'Ille-et-Vilaine' 'Morbihan' 'Haute-Garonne' 'Rhône'\n",
      " 'Alpes-Maritimes' 'Loiret' 'Doubs' 'Nièvre' 'Haute-Saône' 'Yonne'\n",
      " 'Territoire de Belfort' 'Ardennes' 'Aube' 'Haute-Marne'\n",
      " 'Meurthe-et-Moselle' 'Meuse' 'Moselle' 'Bas-Rhin' 'Haut-Rhin' 'Côte-dOr'\n",
      " 'Jura' 'Saône-et-Loire' \"Côtes-d'Armor\" 'Corrèze' 'Creuse' 'Dordogne'\n",
      " 'Gironde' 'Haute-Vienne' 'Ain' 'Allier' 'Ardèche' 'Cantal' 'Drôme'\n",
      " 'Isère' 'Loire' 'Haute-Loire' 'Puy-de-Dôme' 'Savoie' 'Haute-Savoie'\n",
      " 'Hautes-Alpes' 'Bouches-du-Rhône' 'Finistère' 'Cher' 'Indre'\n",
      " 'Indre-et-Loire' 'Loir-et-Cher' 'Maine-et-Loire' 'Vendée' 'Charente'\n",
      " 'Charente-Maritime' 'Deux-Sèvres' 'Vienne' 'Landes' 'Lot-et-Garonne'\n",
      " 'Pyrénées-Atlantiques' 'Ariège' 'Aveyron' 'Gers' 'Lot' 'Hautes-Pyrénées'\n",
      " 'Tarn' 'Tarn-et-Garonne' 'Lozère' 'Alpes-de-Haute-Provence' 'Vaucluse'\n",
      " 'Aude' 'Gard' 'Hérault' 'Pyrénées-Orientales' 'Var' 'Corse-du-Sud'\n",
      " 'Haute-Corse' 'Martinique' 'Mayotte' 'La Réunion' 'Saint-Martin']\n",
      "nom_departement\n",
      "Nord                639\n",
      "Loire-Atlantique    472\n",
      "Pas-de-Calais       466\n",
      "Gironde             457\n",
      "Rhône               456\n",
      "                   ... \n",
      "Lozère               25\n",
      "Martinique           25\n",
      "Guyane               18\n",
      "Mayotte              11\n",
      "Saint-Martin          1\n",
      "Name: count, Length: 102, dtype: int64\n"
     ]
    }
   ],
   "source": [
    "print(df_commune[\"nom_departement\"].shape)\n",
    "print(df_commune[\"nom_departement\"].unique())\n",
    "print(df_commune[\"nom_departement\"].value_counts())"
   ]
  },
  {
   "cell_type": "code",
   "execution_count": 44,
   "metadata": {},
   "outputs": [
    {
     "name": "stdout",
     "output_type": "stream",
     "text": [
      "(18458,)\n",
      "['BAIE MAHAULT' 'BAILLIF' 'BASSE TERRE' ... 'VERQUIERES' 'L ETANG SALE'\n",
      " 'ND']\n",
      "nom_commune\n",
      "ND                694\n",
      "PARIS 13           28\n",
      "SAINT DENIS        22\n",
      "PUTEAUX            20\n",
      "CESSON SEVIGNE     18\n",
      "                 ... \n",
      "MAUVEZIN            1\n",
      "LANNE               1\n",
      "BEAUSEMBLANT        1\n",
      "CADENET             1\n",
      "CHEVAL BLANC        1\n",
      "Name: count, Length: 4964, dtype: int64\n"
     ]
    }
   ],
   "source": [
    "print(df_commune[\"nom_commune\"].shape)\n",
    "print(df_commune[\"nom_commune\"].unique())\n",
    "print(df_commune[\"nom_commune\"].value_counts())"
   ]
  },
  {
   "cell_type": "code",
   "execution_count": 45,
   "metadata": {},
   "outputs": [
    {
     "name": "stdout",
     "output_type": "stream",
     "text": [
      "(18458,)\n",
      "['BAIE MAHAULT' 'BAILLIF' 'BASSE TERRE' ... 'VERQUIERES' 'L ETANG SALE'\n",
      " 'Inconnu']\n",
      "nom_commune\n",
      "Inconnu           694\n",
      "PARIS 13           28\n",
      "SAINT DENIS        22\n",
      "PUTEAUX            20\n",
      "CESSON SEVIGNE     18\n",
      "                 ... \n",
      "MAUVEZIN            1\n",
      "LANNE               1\n",
      "BEAUSEMBLANT        1\n",
      "CADENET             1\n",
      "CHEVAL BLANC        1\n",
      "Name: count, Length: 4964, dtype: int64\n"
     ]
    }
   ],
   "source": [
    "df_commune[\"nom_commune\"] = df_commune[\"nom_commune\"].replace(\"ND\", \"Inconnu\")\n",
    "print(df_commune[\"nom_commune\"].shape)\n",
    "print(df_commune[\"nom_commune\"].unique())\n",
    "print(df_commune[\"nom_commune\"].value_counts())"
   ]
  },
  {
   "cell_type": "code",
   "execution_count": 50,
   "metadata": {},
   "outputs": [
    {
     "name": "stdout",
     "output_type": "stream",
     "text": [
      "(18458,)\n",
      "[  86    7    4   34   13    6   28    5   11   10  479  211  216   68\n",
      "   64   80  110  158  960  408  240  243  351  367  383  295  353  215\n",
      "  316  191    3   22   18   26   31    8   14   41   33  141   44   27\n",
      "   35   40   25   15   21   77   39   50   85   42   47   17    9   20\n",
      "   48   37   43   59   19   16   24   38   49   36   30   66   23   12\n",
      "   93   61   29   32   82   54  145   69  105  112  154   74   58  210\n",
      "   75  155   97  257   55   62  125  221  171  233   51  132  258  152\n",
      "  456  122   46   90  150   56   95   45  149  118  312   70  114   63\n",
      "   83  194   78  117  177   71  136   52   76  119  203   94   53  415\n",
      "  182   81   79  186   60  666  165  126  232  207  143   92   91  321\n",
      "  272   99  128   72  134  113  162  307  328  469  249   89   67  387\n",
      "  173  109   57  386  189   96   87  115  374  330   65  187  413  133\n",
      "  225  103  209  159  301  494  137  213  101  384  246  176  140   73\n",
      "  398  106  923  433  146  429  206   98  184  167  727  100  124  104\n",
      "  205  107  843  127  181  172  304  166  142  358  157  548  256  195\n",
      "  495  423  480  116  111  153  496  336  139 1540  680  338  309  508\n",
      "  506  528  434  499  278  276  148   84  197  123  185  300  248  427\n",
      "  164  314  242  261  349  327  218  544  102  183  196  161  421  108\n",
      "  239  236  163  235  277  461  201  144  223  893  334  262  226  129\n",
      "  406  346  131  484  356  419  160  758  244  436  121  138  462  455\n",
      "   88  449  432  287  359  624  212  170  283  120  188  422  297  561\n",
      "  198  331  305  531  227  310  488 1097  169  396  590  519  222  311\n",
      "  937  130  147  252 1173  369  451  707  344  135  701  621  481  247\n",
      "  175  510  438 1617  728  322  527  333  568  524  425  294  313  464\n",
      "  265  279  368  562  230  202  200  450  228  254  293  208  475  953\n",
      "  266  193  442  372  168  800  259  472  491  493  457  326  315  219\n",
      "  574  199  347  179  586  245  324  515  151 1168  435  627  549  298\n",
      "  237 1020  453  264  269 1282  380  178  751  357  732  702  270  320\n",
      " 1140  543  274  471  452  448  337  296  282  217  308  323  365  410\n",
      "  174  375  286  501  224  267  220  437  253  428  332  746  979  538\n",
      "  255  204  558]\n",
      "nombre_declaration\n",
      "3      2749\n",
      "4      2066\n",
      "5      1549\n",
      "6      1182\n",
      "7      1004\n",
      "       ... \n",
      "357       1\n",
      "732       1\n",
      "702       1\n",
      "270       1\n",
      "558       1\n",
      "Name: count, Length: 423, dtype: int64\n",
      "0\n"
     ]
    }
   ],
   "source": [
    "print(df_commune[\"nombre_declaration\"].shape)\n",
    "print(df_commune[\"nombre_declaration\"].unique())\n",
    "print(df_commune[\"nombre_declaration\"].value_counts())\n",
    "print(df_commune[\"nombre_declaration\"].isnull().sum())"
   ]
  },
  {
   "cell_type": "code",
   "execution_count": 49,
   "metadata": {},
   "outputs": [
    {
     "name": "stdout",
     "output_type": "stream",
     "text": [
      "(18458,)\n",
      "[205643   8815   4024 ...  39166  63290  16890]\n",
      "surface_declaree\n",
      "7421      9\n",
      "8650      7\n",
      "8187      7\n",
      "13923     7\n",
      "2019      7\n",
      "         ..\n",
      "347889    1\n",
      "101922    1\n",
      "132816    1\n",
      "190888    1\n",
      "78334     1\n",
      "Name: count, Length: 14523, dtype: int64\n",
      "0\n"
     ]
    }
   ],
   "source": [
    "print(df_commune[\"surface_declaree\"].shape)\n",
    "print(df_commune[\"surface_declaree\"].unique())\n",
    "print(df_commune[\"surface_declaree\"].value_counts())\n",
    "print(df_commune[\"surface_declaree\"].isnull().sum())"
   ]
  },
  {
   "cell_type": "code",
   "execution_count": 52,
   "metadata": {},
   "outputs": [
    {
     "name": "stdout",
     "output_type": "stream",
     "text": [
      "(18458,)\n",
      "[38442621  1287317   699468 ...  7410229  2650369  2717263]\n",
      "consommation_declaree\n",
      "967253       3\n",
      "518721       2\n",
      "17395011     2\n",
      "761061       2\n",
      "3025911      2\n",
      "            ..\n",
      "25410710     1\n",
      "6251471      1\n",
      "31490722     1\n",
      "288091171    1\n",
      "46776260     1\n",
      "Name: count, Length: 18449, dtype: int64\n",
      "0\n"
     ]
    }
   ],
   "source": [
    "print(df_commune[\"consommation_declaree\"].shape)\n",
    "print(df_commune[\"consommation_declaree\"].unique())\n",
    "print(df_commune[\"consommation_declaree\"].value_counts())\n",
    "print(df_commune[\"consommation_declaree\"].isnull().sum())"
   ]
  },
  {
   "cell_type": "code",
   "execution_count": 54,
   "metadata": {},
   "outputs": [
    {
     "name": "stdout",
     "output_type": "stream",
     "text": [
      "(18458, 10)\n",
      "   annee_consommation zone_climatique code_region  nom_region  \\\n",
      "0  Année de référence             GUA          01  Guadeloupe   \n",
      "1  Année de référence             GUA          01  Guadeloupe   \n",
      "2  Année de référence             GUA          01  Guadeloupe   \n",
      "3  Année de référence             GUA          01  Guadeloupe   \n",
      "4  Année de référence             GUA          01  Guadeloupe   \n",
      "\n",
      "  code_departement nom_departement   nom_commune  nombre_declaration  \\\n",
      "0              971      Guadeloupe  BAIE MAHAULT                  86   \n",
      "1              971      Guadeloupe       BAILLIF                   7   \n",
      "2              971      Guadeloupe   BASSE TERRE                   4   \n",
      "3              971      Guadeloupe    LES ABYMES                  34   \n",
      "4              971      Guadeloupe   PETIT BOURG                  13   \n",
      "\n",
      "   surface_declaree  consommation_declaree  \n",
      "0            205643               38442621  \n",
      "1              8815                1287317  \n",
      "2              4024                 699468  \n",
      "3             88040               20281219  \n",
      "4             14890                1302881  \n"
     ]
    }
   ],
   "source": [
    "print(df_commune.shape)\n",
    "print(df_commune.head())"
   ]
  },
  {
   "cell_type": "code",
   "execution_count": 55,
   "metadata": {},
   "outputs": [],
   "source": [
    "df_commune.to_csv(\"df_commune_cleaned.csv\", index=False)"
   ]
  }
 ],
 "metadata": {
  "kernelspec": {
   "display_name": "__venv",
   "language": "python",
   "name": "python3"
  },
  "language_info": {
   "codemirror_mode": {
    "name": "ipython",
    "version": 3
   },
   "file_extension": ".py",
   "mimetype": "text/x-python",
   "name": "python",
   "nbconvert_exporter": "python",
   "pygments_lexer": "ipython3",
   "version": "3.12.4"
  }
 },
 "nbformat": 4,
 "nbformat_minor": 2
}
